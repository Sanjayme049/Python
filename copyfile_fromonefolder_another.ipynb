{
  "nbformat": 4,
  "nbformat_minor": 0,
  "metadata": {
    "colab": {
      "provenance": [],
      "authorship_tag": "ABX9TyODJXpRFPRyasV3xYzkdWmA",
      "include_colab_link": true
    },
    "kernelspec": {
      "name": "python3",
      "display_name": "Python 3"
    },
    "language_info": {
      "name": "python"
    }
  },
  "cells": [
    {
      "cell_type": "markdown",
      "metadata": {
        "id": "view-in-github",
        "colab_type": "text"
      },
      "source": [
        "<a href=\"https://colab.research.google.com/github/Sanjayme049/Python/blob/main/copyfile_fromonefolder_another.ipynb\" target=\"_parent\"><img src=\"https://colab.research.google.com/assets/colab-badge.svg\" alt=\"Open In Colab\"/></a>"
      ]
    },
    {
      "cell_type": "code",
      "execution_count": 1,
      "metadata": {
        "colab": {
          "base_uri": "https://localhost:8080/"
        },
        "id": "x3ED2VbNOcrl",
        "outputId": "3b8340ab-3f2a-45c9-8685-00ac72362d25"
      },
      "outputs": [
        {
          "output_type": "stream",
          "name": "stdout",
          "text": [
            "Mounted at /content/gdrive\n"
          ]
        }
      ],
      "source": [
        "from google.colab import drive\n",
        "drive.mount(\"/content/gdrive\")"
      ]
    },
    {
      "cell_type": "code",
      "source": [
        "\n",
        "import os\n",
        "import shutil\n",
        "import fnmatch\n",
        "\n",
        "original = '/content/gdrive/MyDrive/Python/automation/source_folder'\n",
        "target = '/content/gdrive/MyDrive/Python/automation/target_folder'\n",
        "\n",
        "Pattern = '*file_example_XLS_50*'\n",
        "\n",
        "src_files = os.listdir(original)\n",
        "\n",
        "for file_name in src_files:\n",
        "  if fnmatch.fnmatch(file_name, Pattern) == True:\n",
        "    full_file_name = os.path.join(original, file_name)\n",
        "    \n",
        "\n",
        "    if os.path.isfile(full_file_name):\n",
        "      shutil.copy(full_file_name, target)\n"
      ],
      "metadata": {
        "id": "I0Z4HDcTP3qq"
      },
      "execution_count": 7,
      "outputs": []
    }
  ]
}