{
  "nbformat": 4,
  "nbformat_minor": 0,
  "metadata": {
    "colab": {
      "provenance": [],
      "authorship_tag": "ABX9TyM8zGRWwi8bXzGhRMSwx0x2",
      "include_colab_link": true
    },
    "kernelspec": {
      "name": "python3",
      "display_name": "Python 3"
    },
    "language_info": {
      "name": "python"
    }
  },
  "cells": [
    {
      "cell_type": "markdown",
      "metadata": {
        "id": "view-in-github",
        "colab_type": "text"
      },
      "source": [
        "<a href=\"https://colab.research.google.com/github/Sanjayme049/Python/blob/main/while_loop.ipynb\" target=\"_parent\"><img src=\"https://colab.research.google.com/assets/colab-badge.svg\" alt=\"Open In Colab\"/></a>"
      ]
    },
    {
      "cell_type": "code",
      "execution_count": 4,
      "metadata": {
        "colab": {
          "base_uri": "https://localhost:8080/"
        },
        "id": "Cn6yHc9UIeBv",
        "outputId": "07fae5d1-0c12-48b5-fc4b-d937baea8286"
      },
      "outputs": [
        {
          "output_type": "stream",
          "name": "stdout",
          "text": [
            "No is: 0\n",
            "No is: 1\n",
            "No is: 2\n",
            "No is: 3\n",
            "No is: 4\n",
            "No is: 5\n",
            "No is: 6\n",
            "No is: 7\n",
            "No is: 8\n",
            "Good Bye\n"
          ]
        }
      ],
      "source": [
        "count = 0\n",
        "\n",
        "while count<9:\n",
        "  print(\"No is:\", count)\n",
        "  count = count+1\n",
        "  \n",
        "\n",
        "print(\"Good Bye\")"
      ]
    },
    {
      "cell_type": "code",
      "source": [
        "# import random\n",
        "# n=20\n",
        "# to_be_guessed = int(n*random.random()) + 1\n",
        "# guess = 0\n",
        "\n",
        "# while guess != to_be_guessed:\n",
        "#   guess = int(input(\"New Number: \"))\n",
        "#   if guess>0:\n",
        "#     if guess> to_be_guessed:\n",
        "#       print(\" Number too large : \")\n",
        "#     elif guess<to_be_guessed:\n",
        "#       print(\"Number is too small\")\n",
        "#   else:\n",
        "#     print(\"Sorry that you're giving up!\")\n",
        "#     break\n",
        "# else:\n",
        "#   print(\"Congratulations. You made it!\")"
      ],
      "metadata": {
        "colab": {
          "base_uri": "https://localhost:8080/"
        },
        "id": "tHGG31rbOPyM",
        "outputId": "5c263885-50c5-4760-e676-660cb39bbec4"
      },
      "execution_count": 1,
      "outputs": [
        {
          "output_type": "stream",
          "name": "stdout",
          "text": [
            "New Number: 2\n",
            "Number is too small\n",
            "New Number: 1\n",
            "Number is too small\n",
            "New Number: 0\n",
            "Sorry that you're giving up!\n"
          ]
        }
      ]
    },
    {
      "cell_type": "code",
      "source": [
        "import random\n",
        "\n",
        "n=20\n",
        "\n",
        "to_be_guessed = int(n * random.random())+1\n",
        "\n",
        "guess=0\n",
        "\n",
        "while guess != to_be_guessed:\n",
        "  guess = int(input(\"Enter a new number: \"))\n",
        "  if guess>0:\n",
        "    if guess>to_be_guessed:\n",
        "      print(\"Number is too large\")\n",
        "\n",
        "    elif guess<to_be_guessed:\n",
        "      print(\"Number is too small\")\n",
        "  else:\n",
        "    print(\"You're giving up\")\n",
        "    break\n",
        "else:\n",
        "  print(\"You made it\")\n",
        "\n",
        "\n",
        "\n",
        "\n"
      ],
      "metadata": {
        "colab": {
          "base_uri": "https://localhost:8080/"
        },
        "id": "jKmHvl-9Q-YP",
        "outputId": "baa5b594-0fd8-402f-bd65-7badcc9f8d3c"
      },
      "execution_count": 2,
      "outputs": [
        {
          "output_type": "stream",
          "name": "stdout",
          "text": [
            "Enter a new number: 10\n",
            "Number is too small\n",
            "Enter a new number: 15\n",
            "Number is too large\n",
            "Enter a new number: 12\n",
            "You made it\n"
          ]
        }
      ]
    },
    {
      "cell_type": "code",
      "source": [],
      "metadata": {
        "id": "w17ztrioQ_QS"
      },
      "execution_count": null,
      "outputs": []
    }
  ]
}