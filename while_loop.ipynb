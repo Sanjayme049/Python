{
  "nbformat": 4,
  "nbformat_minor": 0,
  "metadata": {
    "colab": {
      "provenance": [],
      "authorship_tag": "ABX9TyNvyWy6BiKddWtKpmPNuk2u",
      "include_colab_link": true
    },
    "kernelspec": {
      "name": "python3",
      "display_name": "Python 3"
    },
    "language_info": {
      "name": "python"
    }
  },
  "cells": [
    {
      "cell_type": "markdown",
      "metadata": {
        "id": "view-in-github",
        "colab_type": "text"
      },
      "source": [
        "<a href=\"https://colab.research.google.com/github/Sanjayme049/Python/blob/main/while_loop.ipynb\" target=\"_parent\"><img src=\"https://colab.research.google.com/assets/colab-badge.svg\" alt=\"Open In Colab\"/></a>"
      ]
    },
    {
      "cell_type": "code",
      "execution_count": 4,
      "metadata": {
        "colab": {
          "base_uri": "https://localhost:8080/"
        },
        "id": "Cn6yHc9UIeBv",
        "outputId": "07fae5d1-0c12-48b5-fc4b-d937baea8286"
      },
      "outputs": [
        {
          "output_type": "stream",
          "name": "stdout",
          "text": [
            "No is: 0\n",
            "No is: 1\n",
            "No is: 2\n",
            "No is: 3\n",
            "No is: 4\n",
            "No is: 5\n",
            "No is: 6\n",
            "No is: 7\n",
            "No is: 8\n",
            "Good Bye\n"
          ]
        }
      ],
      "source": [
        "count = 0\n",
        "\n",
        "while count<9:\n",
        "  print(\"No is:\", count)\n",
        "  count = count+1\n",
        "  \n",
        "\n",
        "print(\"Good Bye\")"
      ]
    },
    {
      "cell_type": "code",
      "source": [
        "import random\n",
        "n=20\n",
        "to_be_guessed = int(n*random.random()) + 1\n",
        "guess = 0\n",
        "\n",
        "while guess != to_be_guessed:\n",
        "  guess = int(input(\"New Number: \"))\n",
        "  if guess>0:\n",
        "    if guess> to_be_guessed:\n",
        "      print(\" Number too large : \")\n",
        "    elif guess<to_be_guessed:\n",
        "      print(\"Number is too small\")\n",
        "  else:\n",
        "    print(\"Sorry that you're giving up!\")\n",
        "    break\n",
        "else:\n",
        "  print(\"Congratulations. You made it!\")"
      ],
      "metadata": {
        "colab": {
          "base_uri": "https://localhost:8080/"
        },
        "id": "tHGG31rbOPyM",
        "outputId": "69d9535c-4ea4-4062-a6d7-bc0e3bb65d5c"
      },
      "execution_count": 5,
      "outputs": [
        {
          "output_type": "stream",
          "name": "stdout",
          "text": [
            "New Number: 10\n",
            " Number too large : \n",
            "New Number: 6\n",
            " Number too large : \n",
            "New Number: 4\n",
            " Number too large : \n",
            "New Number: 3\n",
            " Number too large : \n",
            "New Number: 2\n",
            "Congratulations. You made it!\n"
          ]
        }
      ]
    }
  ]
}