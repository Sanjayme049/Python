{
  "nbformat": 4,
  "nbformat_minor": 0,
  "metadata": {
    "colab": {
      "name": "sorted_list.ipynb",
      "provenance": [],
      "authorship_tag": "ABX9TyPij6bUHKZnelPg0l8gvxV4",
      "include_colab_link": true
    },
    "kernelspec": {
      "name": "python3",
      "display_name": "Python 3"
    },
    "language_info": {
      "name": "python"
    }
  },
  "cells": [
    {
      "cell_type": "markdown",
      "metadata": {
        "id": "view-in-github",
        "colab_type": "text"
      },
      "source": [
        "<a href=\"https://colab.research.google.com/github/Sanjayme049/Python/blob/main/sorted_list.ipynb\" target=\"_parent\"><img src=\"https://colab.research.google.com/assets/colab-badge.svg\" alt=\"Open In Colab\"/></a>"
      ]
    },
    {
      "cell_type": "code",
      "execution_count": 5,
      "metadata": {
        "colab": {
          "base_uri": "https://localhost:8080/"
        },
        "id": "1MzaMVkyundB",
        "outputId": "2087b1b1-f669-49f0-ce52-099e21409bdd"
      },
      "outputs": [
        {
          "output_type": "stream",
          "name": "stdout",
          "text": [
            "sorted variables: \t [1, 2, 3, 4, 5, 6, 7, 8, 9]\n",
            "original variables:\t [9, 1, 2, 8, 3, 4, 5, 6, 7]\n"
          ]
        }
      ],
      "source": [
        "li = [9, 1, 2, 8, 3, 4, 5, 6, 7]\n",
        "s_li = sorted(li)\n",
        "print('sorted variables: \\t', s_li)\n",
        "print('original variables:\\t', li)\n"
      ]
    },
    {
      "cell_type": "code",
      "source": [
        "# desending order\n",
        "li = [9, 1, 2, 8, 3, 4, 5, 6, 7]\n",
        "s_li = sorted(li, reverse=True)\n",
        "print('sorted variables: \\t', s_li)\n",
        "print('original variables:\\t', li)"
      ],
      "metadata": {
        "colab": {
          "base_uri": "https://localhost:8080/"
        },
        "id": "9SEN6bHLvByA",
        "outputId": "68cb2e23-52b2-4991-ad1c-42b4644419d6"
      },
      "execution_count": 6,
      "outputs": [
        {
          "output_type": "stream",
          "name": "stdout",
          "text": [
            "sorted variables: \t [9, 8, 7, 6, 5, 4, 3, 2, 1]\n",
            "original variables:\t [9, 1, 2, 8, 3, 4, 5, 6, 7]\n"
          ]
        }
      ]
    },
    {
      "cell_type": "code",
      "source": [
        "tup = (9, 1, 2, 8, 3, 4, 5, 6, 7)\n",
        "s_tup = sorted(tup)\n",
        "print('sorted variables: \\t', s_tup)\n",
        "print('original variables:\\t', tup)"
      ],
      "metadata": {
        "colab": {
          "base_uri": "https://localhost:8080/"
        },
        "id": "UL9ErPqYwF4R",
        "outputId": "5041f6db-6b78-49c7-defd-3641d507ba99"
      },
      "execution_count": 7,
      "outputs": [
        {
          "output_type": "stream",
          "name": "stdout",
          "text": [
            "sorted variables: \t [1, 2, 3, 4, 5, 6, 7, 8, 9]\n",
            "original variables:\t (9, 1, 2, 8, 3, 4, 5, 6, 7)\n"
          ]
        }
      ]
    },
    {
      "cell_type": "code",
      "source": [
        ""
      ],
      "metadata": {
        "id": "ivms5mHW2EIk"
      },
      "execution_count": null,
      "outputs": []
    }
  ]
}