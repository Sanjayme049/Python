{
  "nbformat": 4,
  "nbformat_minor": 0,
  "metadata": {
    "colab": {
      "name": "nested_data_challenge.ipynb",
      "provenance": [],
      "authorship_tag": "ABX9TyN+IHhjAhrAiL/er6yxIOI7",
      "include_colab_link": true
    },
    "kernelspec": {
      "name": "python3",
      "display_name": "Python 3"
    },
    "language_info": {
      "name": "python"
    }
  },
  "cells": [
    {
      "cell_type": "markdown",
      "metadata": {
        "id": "view-in-github",
        "colab_type": "text"
      },
      "source": [
        "<a href=\"https://colab.research.google.com/github/Sanjayme049/Python/blob/main/nested_data_challenge.ipynb\" target=\"_parent\"><img src=\"https://colab.research.google.com/assets/colab-badge.svg\" alt=\"Open In Colab\"/></a>"
      ]
    },
    {
      "cell_type": "code",
      "execution_count": 2,
      "metadata": {
        "colab": {
          "base_uri": "https://localhost:8080/"
        },
        "id": "XBf-XAQ4cPtk",
        "outputId": "bd842f10-4795-40c7-921e-0f9546351c1e"
      },
      "outputs": [
        {
          "output_type": "stream",
          "name": "stdout",
          "text": [
            "The Way I Choose\n"
          ]
        }
      ],
      "source": [
        "albums = [\n",
        "    (\"Welcome to my Nightmare\", \"Alice Cooper\", 1975,\n",
        "     [\n",
        "         (1, \"Welcome to my Nightmare\"),\n",
        "         (2, \"Devil's Food\"),\n",
        "         (3, \"The Black Widow\"),\n",
        "         (4, \"Some Folks\"),\n",
        "         (5, \"Only Women Bleed\"),\n",
        "     ]\n",
        "     ),\n",
        "    (\"Bad Company\", \"Bad Company\", 1974,\n",
        "     [\n",
        "         (1, \"Can't Get Enough\"),\n",
        "         (2, \"Rock Steady\"),\n",
        "         (3, \"Ready for Love\"),\n",
        "         (4, \"Don't Let Me Down\"),\n",
        "         (5, \"Bad Company\"),\n",
        "         (6, \"The Way I Choose\"),\n",
        "         (7, \"Movin' On\"),\n",
        "         (8, \"Seagull\"),\n",
        "     ]\n",
        "     ),\n",
        "    (\"Nightflight\", \"Budgie\", 1981,\n",
        "     [\n",
        "         (1, \"I Turned to Stone\"),\n",
        "         (2, \"Keeping a Rendezvous\"),\n",
        "         (3, \"Reaper of the Glory\"),\n",
        "         (4, \"She Used Me Up\"),\n",
        "     ]\n",
        "     ),\n",
        "    (\"More Mayhem\", \"Imelda May\", 2011,\n",
        "     [\n",
        "         (1, \"Pulling the Rug\"),\n",
        "         (2, \"Psycho\"),\n",
        "         (3, \"Mayhem\"),\n",
        "         (4, \"Kentish Town Waltz\"),\n",
        "     ]\n",
        "     ),\n",
        "]\n",
        "\n",
        "album = albums[1][3][5][1]\n",
        "print(album)"
      ]
    },
    {
      "cell_type": "code",
      "source": [
        "Nightflight = albums[2][2]\n",
        "print(Nightflight)"
      ],
      "metadata": {
        "colab": {
          "base_uri": "https://localhost:8080/"
        },
        "id": "kIiy4iT0cX32",
        "outputId": "ce705045-2234-4c09-d687-6bf108edcbb1"
      },
      "execution_count": 4,
      "outputs": [
        {
          "output_type": "stream",
          "name": "stdout",
          "text": [
            "1981\n"
          ]
        }
      ]
    },
    {
      "cell_type": "code",
      "source": [
        "ImeldaMay_album = albums[3][3][3][0]\n",
        "print(ImeldaMay_album)"
      ],
      "metadata": {
        "colab": {
          "base_uri": "https://localhost:8080/"
        },
        "id": "olxsbRjyd5-l",
        "outputId": "13838773-7705-4429-b90b-3878f0f584e4"
      },
      "execution_count": 10,
      "outputs": [
        {
          "output_type": "stream",
          "name": "stdout",
          "text": [
            "4\n"
          ]
        }
      ]
    },
    {
      "cell_type": "code",
      "source": [
        "Budgie_album = albums[2][3][1]\n",
        "print(Budgie_album)"
      ],
      "metadata": {
        "colab": {
          "base_uri": "https://localhost:8080/"
        },
        "id": "rc4GPyLLfb4-",
        "outputId": "a9666e6c-bec0-4851-f3de-3c3b8e161cc8"
      },
      "execution_count": 12,
      "outputs": [
        {
          "output_type": "stream",
          "name": "stdout",
          "text": [
            "(2, 'Keeping a Rendezvous')\n"
          ]
        }
      ]
    },
    {
      "cell_type": "code",
      "source": [
        ""
      ],
      "metadata": {
        "id": "DaSYT_qmhNfh"
      },
      "execution_count": null,
      "outputs": []
    }
  ]
}