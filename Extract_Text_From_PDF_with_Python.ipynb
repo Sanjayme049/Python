{
  "nbformat": 4,
  "nbformat_minor": 0,
  "metadata": {
    "colab": {
      "provenance": [],
      "mount_file_id": "1DBmgyWqlSpWKUH9Af_Ushh0kHbEkhr00",
      "authorship_tag": "ABX9TyNYHk0RCY/MpcZNPvi6V2cG",
      "include_colab_link": true
    },
    "kernelspec": {
      "name": "python3",
      "display_name": "Python 3"
    },
    "language_info": {
      "name": "python"
    }
  },
  "cells": [
    {
      "cell_type": "markdown",
      "metadata": {
        "id": "view-in-github",
        "colab_type": "text"
      },
      "source": [
        "<a href=\"https://colab.research.google.com/github/Sanjayme049/Python/blob/main/Extract_Text_From_PDF_with_Python.ipynb\" target=\"_parent\"><img src=\"https://colab.research.google.com/assets/colab-badge.svg\" alt=\"Open In Colab\"/></a>"
      ]
    },
    {
      "cell_type": "code",
      "execution_count": 17,
      "metadata": {
        "colab": {
          "base_uri": "https://localhost:8080/"
        },
        "id": "NdS0wSQd7tZT",
        "outputId": "9350574c-440e-4edc-df7b-5a8e5dcb8cc8"
      },
      "outputs": [
        {
          "output_type": "stream",
          "name": "stdout",
          "text": [
            "Looking in indexes: https://pypi.org/simple, https://us-python.pkg.dev/colab-wheels/public/simple/\n",
            "Requirement already satisfied: pypdf2 in /usr/local/lib/python3.7/dist-packages (2.10.9)\n",
            "Requirement already satisfied: typing-extensions>=3.10.0.0 in /usr/local/lib/python3.7/dist-packages (from pypdf2) (4.1.1)\n"
          ]
        }
      ],
      "source": [
        "pip install pypdf2\n"
      ]
    },
    {
      "cell_type": "code",
      "source": [
        "from google.colab import drive\n",
        "drive.mount(\"/content/gdrive\")"
      ],
      "metadata": {
        "colab": {
          "base_uri": "https://localhost:8080/"
        },
        "id": "p18Is7f5JVkb",
        "outputId": "e42f85ab-f677-4f39-88eb-d88bcc3cc139"
      },
      "execution_count": 18,
      "outputs": [
        {
          "output_type": "stream",
          "name": "stdout",
          "text": [
            "Mounted at /content/gdrive\n"
          ]
        }
      ]
    },
    {
      "cell_type": "code",
      "source": [
        "import PyPDF2\n",
        "pdf = open(\"/content/gdrive/My Drive/Python/Project_Practice/acknowledgementSlip.pdf\", \"rb\")  \n",
        "reader = PyPDF2.PdfFileReader(pdf)\n",
        "page = reader.getPage(0)\n",
        "print(page.extractText())"
      ],
      "metadata": {
        "colab": {
          "base_uri": "https://localhost:8080/"
        },
        "id": "Jbv-0eYOF2NJ",
        "outputId": "7363833e-0242-4f45-b501-36f7a4a87bbc"
      },
      "execution_count": 19,
      "outputs": [
        {
          "output_type": "stream",
          "name": "stdout",
          "text": [
            "AADHAAR Number\n",
            ":\n",
            "998077884529\n",
            "SRN (Service Request Number)\n",
            ":\n",
            "S1343662501000\n",
            "Invoice Number\n",
            ":\n",
            "40298343\n",
            "Amount Paid\n",
            ":\n",
            "INR 50.00\n",
            "Date of Payment\n",
            ":\n",
            "05/09/2022 21:28:07\n",
            "Request Type\n",
            ":\n",
            "S/O Late Mallappa\n",
            "Shiggihalli-Shingapur\n",
            "#664 Hanagl Talluka Mattu\n",
            "Adur Grama Haveri\n",
            "Karnataka 581101\n",
            "S/O MALLAPPA VEERAPPA\n",
            "BANKAPUR 664\n",
            "SHEEGIHALLI SHEEGIHALLI\n",
            "NEAR\n",
            "BRAHMALINGESHWARA\n",
            "TEMPLE Sheegihalli\n",
            "(Shingahalli) Adur Haveri\n",
            "Karnataka 581101\n",
            "S/O \n",
            "\u0001.\n",
            " \n",
            "ಮಲ\u0005ಪ\u0007\n",
            " \n",
            "\bೕ\n",
            "\u000bಹ\r\u000e\n",
            "-\n",
            "\b೦\u0010\u0011ರ\n",
            "#\n",
            "೬೬೪\n",
            " \n",
            "\u0015ನಗ\u0018\n",
            " \n",
            "\u0019ಲು\u0005ಕ\n",
            " \n",
            "ಮತು\u001d\n",
            "ಆಡೂರ\n",
            " \n",
            "\u0010!ಮ\n",
            " \n",
            "\u0015\"ೕ#\n",
            " \n",
            "ಕ$%ಟಕ\n",
            "581101\n",
            "'\n",
            "/\n",
            "ಓ\n",
            " \n",
            "ಮಲ\u0005ಪ\u0007\n",
            " \n",
            ")ೕರಪ\u0007\n",
            " \n",
            "ಬಂ,\u0011-\n",
            " \n",
            "೬೬೪\n",
            "\bೕ\n",
            "ಹ\r\u000e\n",
            " \n",
            "\bೕ\n",
            "ಹ\r\u000e\n",
            " \n",
            ".ಯ-\n",
            "ಬ!ಹ01ಂ2ೕಶ4ರ\n",
            " \n",
            "5ಂಪ\u0018\n",
            " \n",
            "\bೕ\n",
            "ಹ\r\u000e\n",
            "(\n",
            "\bಂಗಹ\r\u000e\n",
            ") \n",
            "ಅಡೂ-\n",
            " \n",
            "\u0015\"ೕ#\n",
            " \n",
            "ಕ$%ಟಕ\n",
            "581101\n",
            "Existing\n",
            "GSTIN/UIN:07AAAGU0182Q1ZS\n",
            "Invoice No:40298343\n",
            "Date:05-09-2022\n",
            "ADDRESS\n",
            "Acknowledgement Slip - Online Demographics Update\n",
            "Update Request Details\n",
            "Corrected/Changed to\n",
            "Received Rs 50.00 (including GST) towards update of demographics data through online SSUP\n",
            "Payment Instrument.\n",
            "Electronically Generated, does not require Signature.\n"
          ]
        }
      ]
    },
    {
      "cell_type": "code",
      "source": [],
      "metadata": {
        "id": "Dp-uoKDcHcma"
      },
      "execution_count": 19,
      "outputs": []
    }
  ]
}