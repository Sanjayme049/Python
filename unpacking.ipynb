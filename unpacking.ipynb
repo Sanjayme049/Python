{
  "nbformat": 4,
  "nbformat_minor": 0,
  "metadata": {
    "colab": {
      "name": "unpacking.ipynb",
      "provenance": [],
      "authorship_tag": "ABX9TyMpJfiLOnJN0ENmYg3Nl6ez",
      "include_colab_link": true
    },
    "kernelspec": {
      "name": "python3",
      "display_name": "Python 3"
    },
    "language_info": {
      "name": "python"
    }
  },
  "cells": [
    {
      "cell_type": "markdown",
      "metadata": {
        "id": "view-in-github",
        "colab_type": "text"
      },
      "source": [
        "<a href=\"https://colab.research.google.com/github/Sanjayme049/Python/blob/main/unpacking.ipynb\" target=\"_parent\"><img src=\"https://colab.research.google.com/assets/colab-badge.svg\" alt=\"Open In Colab\"/></a>"
      ]
    },
    {
      "cell_type": "code",
      "execution_count": 4,
      "metadata": {
        "colab": {
          "base_uri": "https://localhost:8080/"
        },
        "id": "LLS2UVWEsQTV",
        "outputId": "ab877251-d8cc-469a-e7a4-65a7a7b364a5"
      },
      "outputs": [
        {
          "output_type": "stream",
          "name": "stdout",
          "text": [
            "[12, 13, 14, 15]\n",
            "12\n",
            "13\n",
            "14\n",
            "15\n"
          ]
        }
      ],
      "source": [
        "data_list = [12, 13, 14]\n",
        "data_list.append(15)\n",
        "print(data_list)\n",
        "p, q, r, z = data_list\n",
        "print(p)\n",
        "print(q)\n",
        "print(r)\n",
        "print(z)"
      ]
    },
    {
      "cell_type": "code",
      "source": [
        "welcome = \"Welcome to my Nightmare\", \"Alice Cooper\", 1975\n",
        "bad = \"Bad Company\", \"Bad Company\", 1974\n",
        "budgie = \"Nightflight\", \"Budgie\", 1981\n",
        "imlda = \"More mayhem\", \"Emilda May\", 2011\n",
        "metallica = \"Ride the Lightning\", \"Metallica\", 1984\n",
        "\n",
        "title, artist, year = metallica\n",
        "print(title)\n",
        "print(artist)\n",
        "print(year)\n",
        "\n",
        "table = (\"Coffe table\", 200, 100, 75, 34.50)\n",
        "print(table[1] * table[2])\n",
        "name, length, width, heigth, price = table\n",
        "print(length * width)\n"
      ],
      "metadata": {
        "colab": {
          "base_uri": "https://localhost:8080/"
        },
        "id": "n3R_sRgXsgtK",
        "outputId": "5e9d583d-de7d-4bef-ad1d-5bba0a9c7909"
      },
      "execution_count": 3,
      "outputs": [
        {
          "output_type": "stream",
          "name": "stdout",
          "text": [
            "Ride the Lightning\n",
            "Metallica\n",
            "1984\n",
            "20000\n",
            "20000\n"
          ]
        }
      ]
    },
    {
      "cell_type": "code",
      "source": [
        "albums = [\"Welcome to my Nightmare\", \"Alice Cooper\", 1975,\n",
        "\"Bad Company\", \"Bad Company\", 1974,\n",
        "\"Nightflight\", \"Budgie\", 1981,\n",
        "\"More mayhem\", \"Emilda May\", 2011,\n",
        "\"Ride the Lightning\", \"Metallica\", 1984,\n",
        "]\n",
        "\n",
        "print(len(albums))"
      ],
      "metadata": {
        "colab": {
          "base_uri": "https://localhost:8080/"
        },
        "id": "wuvrMPRDxV0z",
        "outputId": "4ca2ad07-0e8d-45ca-e4eb-4e9aea159a5d"
      },
      "execution_count": 5,
      "outputs": [
        {
          "output_type": "stream",
          "name": "stdout",
          "text": [
            "15\n"
          ]
        }
      ]
    },
    {
      "cell_type": "code",
      "source": [
        "albums = [(\"Welcome to my Nightmare\", \"Alice Cooper\", 1975),\n",
        "(\"Bad Company\", \"Bad Company\", 1974),\n",
        "(\"Nightflight\", \"Budgie\", 1981),\n",
        "(\"More mayhem\", \"Emilda May\", 2011),\n",
        "(\"Ride the Lightning\", \"Metallica\", 1984),\n",
        "]\n",
        "\n",
        "print(len(albums))"
      ],
      "metadata": {
        "colab": {
          "base_uri": "https://localhost:8080/"
        },
        "id": "WCdBwdJj4aJV",
        "outputId": "b87008ea-218f-44b7-b66e-b21d780e697e"
      },
      "execution_count": 7,
      "outputs": [
        {
          "output_type": "stream",
          "name": "stdout",
          "text": [
            "5\n"
          ]
        }
      ]
    },
    {
      "cell_type": "code",
      "source": [
        "for album in albums:\n",
        "  print(\"Album: {}, Artist: {}, Year: {}\"\n",
        "  .format(album[0], album[1], album[2]))"
      ],
      "metadata": {
        "colab": {
          "base_uri": "https://localhost:8080/"
        },
        "id": "gKGQXISR44jG",
        "outputId": "1cb1106e-56fb-4589-cb99-fef01a2072b8"
      },
      "execution_count": 8,
      "outputs": [
        {
          "output_type": "stream",
          "name": "stdout",
          "text": [
            "Album: Welcome to my Nightmare, Artist: Alice Cooper, Year: 1975\n",
            "Album: Bad Company, Artist: Bad Company, Year: 1974\n",
            "Album: Nightflight, Artist: Budgie, Year: 1981\n",
            "Album: More mayhem, Artist: Emilda May, Year: 2011\n",
            "Album: Ride the Lightning, Artist: Metallica, Year: 1984\n"
          ]
        }
      ]
    },
    {
      "cell_type": "code",
      "source": [
        "for name, artist, year in albums:\n",
        "  print(\"Album: {}, Artist: {}, Year: {}\"\n",
        "  .format(name, artist, year))"
      ],
      "metadata": {
        "colab": {
          "base_uri": "https://localhost:8080/"
        },
        "id": "S7cqENuL55VN",
        "outputId": "5891d7a3-013e-42fe-9ee9-f079b8d483d4"
      },
      "execution_count": 10,
      "outputs": [
        {
          "output_type": "stream",
          "name": "stdout",
          "text": [
            "Album: Welcome to my Nightmare, Artist: Alice Cooper, Year: 1975\n",
            "Album: Bad Company, Artist: Bad Company, Year: 1974\n",
            "Album: Nightflight, Artist: Budgie, Year: 1981\n",
            "Album: More mayhem, Artist: Emilda May, Year: 2011\n",
            "Album: Ride the Lightning, Artist: Metallica, Year: 1984\n"
          ]
        }
      ]
    },
    {
      "cell_type": "code",
      "source": [
        "albums = [\n",
        "    (\"Welcome to my Nightmare\", \"Alice Cooper\", 1975,\n",
        "     [\n",
        "         (1, \"Welcome to my Nightmare\"),\n",
        "         (2, \"Devil's Food\"),\n",
        "         (3, \"The Black Widow\"),\n",
        "         (4, \"Some Folks\"),\n",
        "         (5, \"Only Women Bleed\"),\n",
        "     ]\n",
        "     ),\n",
        "    (\"Bad Company\", \"Bad Company\", 1974,\n",
        "     [\n",
        "         (1, \"Can't Get Enough\"),\n",
        "         (2, \"Rock Steady\"),\n",
        "         (3, \"Ready for Love\"),\n",
        "         (4, \"Don't Let Me Down\"),\n",
        "         (5, \"Bad Company\"),\n",
        "         (6, \"The Way I Choose\"),\n",
        "         (7, \"Movin' On\"),\n",
        "         (8, \"Seagull\"),\n",
        "     ]\n",
        "     ),\n",
        "    (\"Nightflight\", \"Budgie\", 1981,\n",
        "     [\n",
        "         (1, \"I Turned to Stone\"),\n",
        "         (2, \"Keeping a Rendezvous\"),\n",
        "         (3, \"Reaper of the Glory\"),\n",
        "         (4, \"She Used Me Up\"),\n",
        "     ]\n",
        "     ),\n",
        "    (\"More Mayhem\", \"Imelda May\", 2011,\n",
        "     [\n",
        "         (1, \"Pulling the Rug\"),\n",
        "         (2, \"Psycho\"),\n",
        "         (3, \"Mayhem\"),\n",
        "         (4, \"Kentish Town Waltz\"),\n",
        "     ]\n",
        "     ),\n",
        "]\n",
        "\n",
        "for name, artist, year, songs in albums:\n",
        "  print(\"Album: {}, Artist: {}, Year: {}, Songs: {}\"\n",
        "  .format(name, artist, year, songs))\n",
        "\n",
        "  print()\n",
        "\n",
        "album = albums[2]\n",
        "print(album)\n",
        "\n",
        "songs = album[3]\n",
        "print(songs)"
      ],
      "metadata": {
        "colab": {
          "base_uri": "https://localhost:8080/"
        },
        "id": "wN8zZVf26aDF",
        "outputId": "758d9b37-205a-4fc0-8119-2b8b544169cc"
      },
      "execution_count": 16,
      "outputs": [
        {
          "output_type": "stream",
          "name": "stdout",
          "text": [
            "('Nightflight', 'Budgie', 1981, [(1, 'I Turned to Stone'), (2, 'Keeping a Rendezvous'), (3, 'Reaper of the Glory'), (4, 'She Used Me Up')])\n",
            "[(1, 'I Turned to Stone'), (2, 'Keeping a Rendezvous'), (3, 'Reaper of the Glory'), (4, 'She Used Me Up')]\n"
          ]
        }
      ]
    },
    {
      "cell_type": "code",
      "source": [
        ""
      ],
      "metadata": {
        "id": "LQYPi_ozG8Lh"
      },
      "execution_count": null,
      "outputs": []
    }
  ]
}