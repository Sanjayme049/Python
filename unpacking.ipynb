{
  "nbformat": 4,
  "nbformat_minor": 0,
  "metadata": {
    "colab": {
      "name": "unpacking.ipynb",
      "provenance": [],
      "authorship_tag": "ABX9TyPaUkXvQRJUzaE3yZNq9knS",
      "include_colab_link": true
    },
    "kernelspec": {
      "name": "python3",
      "display_name": "Python 3"
    },
    "language_info": {
      "name": "python"
    }
  },
  "cells": [
    {
      "cell_type": "markdown",
      "metadata": {
        "id": "view-in-github",
        "colab_type": "text"
      },
      "source": [
        "<a href=\"https://colab.research.google.com/github/Sanjayme049/Python/blob/main/unpacking.ipynb\" target=\"_parent\"><img src=\"https://colab.research.google.com/assets/colab-badge.svg\" alt=\"Open In Colab\"/></a>"
      ]
    },
    {
      "cell_type": "code",
      "execution_count": 4,
      "metadata": {
        "colab": {
          "base_uri": "https://localhost:8080/"
        },
        "id": "LLS2UVWEsQTV",
        "outputId": "ab877251-d8cc-469a-e7a4-65a7a7b364a5"
      },
      "outputs": [
        {
          "output_type": "stream",
          "name": "stdout",
          "text": [
            "[12, 13, 14, 15]\n",
            "12\n",
            "13\n",
            "14\n",
            "15\n"
          ]
        }
      ],
      "source": [
        "data_list = [12, 13, 14]\n",
        "data_list.append(15)\n",
        "print(data_list)\n",
        "p, q, r, z = data_list\n",
        "print(p)\n",
        "print(q)\n",
        "print(r)\n",
        "print(z)"
      ]
    },
    {
      "cell_type": "code",
      "source": [
        "welcome = \"Welcome to my Nightmare\", \"Alice Cooper\", 1975\n",
        "bad = \"Bad Company\", \"Bad Company\", 1974\n",
        "budgie = \"Nightflight\", \"Budgie\", 1981\n",
        "imlda = \"More mayhem\", \"Emilda May\", 2011\n",
        "metallica = \"Ride the Lightning\", \"Metallica\", 1984\n",
        "\n",
        "title, artist, year = metallica\n",
        "print(title)\n",
        "print(artist)\n",
        "print(year)\n",
        "\n",
        "table = (\"Coffe table\", 200, 100, 75, 34.50)\n",
        "print(table[1] * table[2])\n",
        "name, length, width, heigth, price = table\n",
        "print(length * width)\n"
      ],
      "metadata": {
        "colab": {
          "base_uri": "https://localhost:8080/"
        },
        "id": "n3R_sRgXsgtK",
        "outputId": "5e9d583d-de7d-4bef-ad1d-5bba0a9c7909"
      },
      "execution_count": 3,
      "outputs": [
        {
          "output_type": "stream",
          "name": "stdout",
          "text": [
            "Ride the Lightning\n",
            "Metallica\n",
            "1984\n",
            "20000\n",
            "20000\n"
          ]
        }
      ]
    },
    {
      "cell_type": "code",
      "source": [
        ""
      ],
      "metadata": {
        "id": "wuvrMPRDxV0z"
      },
      "execution_count": null,
      "outputs": []
    }
  ]
}