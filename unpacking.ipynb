{
  "nbformat": 4,
  "nbformat_minor": 0,
  "metadata": {
    "colab": {
      "name": "unpacking.ipynb",
      "provenance": [],
      "authorship_tag": "ABX9TyND7j7hcnA/EWC/ofsg3jcg",
      "include_colab_link": true
    },
    "kernelspec": {
      "name": "python3",
      "display_name": "Python 3"
    },
    "language_info": {
      "name": "python"
    }
  },
  "cells": [
    {
      "cell_type": "markdown",
      "metadata": {
        "id": "view-in-github",
        "colab_type": "text"
      },
      "source": [
        "<a href=\"https://colab.research.google.com/github/Sanjayme049/Python/blob/main/unpacking.ipynb\" target=\"_parent\"><img src=\"https://colab.research.google.com/assets/colab-badge.svg\" alt=\"Open In Colab\"/></a>"
      ]
    },
    {
      "cell_type": "code",
      "execution_count": 4,
      "metadata": {
        "colab": {
          "base_uri": "https://localhost:8080/"
        },
        "id": "LLS2UVWEsQTV",
        "outputId": "ab877251-d8cc-469a-e7a4-65a7a7b364a5"
      },
      "outputs": [
        {
          "output_type": "stream",
          "name": "stdout",
          "text": [
            "[12, 13, 14, 15]\n",
            "12\n",
            "13\n",
            "14\n",
            "15\n"
          ]
        }
      ],
      "source": [
        "data_list = [12, 13, 14]\n",
        "data_list.append(15)\n",
        "print(data_list)\n",
        "p, q, r, z = data_list\n",
        "print(p)\n",
        "print(q)\n",
        "print(r)\n",
        "print(z)"
      ]
    },
    {
      "cell_type": "code",
      "source": [
        ""
      ],
      "metadata": {
        "id": "n3R_sRgXsgtK"
      },
      "execution_count": null,
      "outputs": []
    }
  ]
}