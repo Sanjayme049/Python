{
  "nbformat": 4,
  "nbformat_minor": 0,
  "metadata": {
    "colab": {
      "name": "Stat1.ipynb",
      "provenance": [],
      "authorship_tag": "ABX9TyN65f2dQa1ZjRmSrSDuKIB9",
      "include_colab_link": true
    },
    "kernelspec": {
      "name": "python3",
      "display_name": "Python 3"
    },
    "language_info": {
      "name": "python"
    }
  },
  "cells": [
    {
      "cell_type": "markdown",
      "metadata": {
        "id": "view-in-github",
        "colab_type": "text"
      },
      "source": [
        "<a href=\"https://colab.research.google.com/github/Sanjayme049/Python/blob/main/Stat1.ipynb\" target=\"_parent\"><img src=\"https://colab.research.google.com/assets/colab-badge.svg\" alt=\"Open In Colab\"/></a>"
      ]
    },
    {
      "cell_type": "code",
      "execution_count": 1,
      "metadata": {
        "id": "CGllKuG5sQco"
      },
      "outputs": [],
      "source": [
        "import pandas as pd\n",
        "import numpy as np\n",
        "from scipy import stats\n",
        "import matplotlib.pyplot as plt\n",
        "import seaborn as sns\n",
        "import warnings\n",
        "warnings.filterwarnings(action = 'ignore')"
      ]
    },
    {
      "cell_type": "code",
      "source": [
        "np.random.seed(0) # random.seed() - > use to match generated sample\n",
        "np.random.rand(3) # Randomly generating numbers from a uniform distribution [0, 1]"
      ],
      "metadata": {
        "colab": {
          "base_uri": "https://localhost:8080/"
        },
        "id": "g5bGfu8wst1E",
        "outputId": "546c80b9-fb09-444a-cdd8-a1e5dd18de6a"
      },
      "execution_count": 10,
      "outputs": [
        {
          "output_type": "execute_result",
          "data": {
            "text/plain": [
              "array([0.5488135 , 0.71518937, 0.60276338])"
            ]
          },
          "metadata": {},
          "execution_count": 10
        }
      ]
    },
    {
      "cell_type": "code",
      "source": [
        "x = np.random.binomial(10, 0.89, 300)\n",
        "from collections import Counter\n",
        "Counter(x)\n",
        "\n"
      ],
      "metadata": {
        "colab": {
          "base_uri": "https://localhost:8080/"
        },
        "id": "FJnx5eAys8KX",
        "outputId": "bddedfed-87d2-48cf-bd46-596da7066e8d"
      },
      "execution_count": 16,
      "outputs": [
        {
          "output_type": "execute_result",
          "data": {
            "text/plain": [
              "Counter({5: 1, 6: 2, 7: 27, 8: 58, 9: 111, 10: 101})"
            ]
          },
          "metadata": {},
          "execution_count": 16
        }
      ]
    },
    {
      "cell_type": "code",
      "source": [
        "fig, ax = plt.subplots(figsize = (12, 8))\n",
        "ber_data = np.random.binomial(1000, 0.7, size = 10000)\n",
        "ax.hist(ber_data, bins = 40)\n",
        "fig.savefig('binomial.png')\n",
        "plt.show()"
      ],
      "metadata": {
        "colab": {
          "base_uri": "https://localhost:8080/",
          "height": 483
        },
        "id": "SyfB59pRz5Qd",
        "outputId": "ac8ce14b-6dd3-4758-aac6-cb68ac90aed6"
      },
      "execution_count": 18,
      "outputs": [
        {
          "output_type": "display_data",
          "data": {
            "text/plain": [
              "<Figure size 864x576 with 1 Axes>"
            ],
            "image/png": "[encoded data removed]"
          },
          "metadata": {
            "needs_background": "light"
          }
        }
      ]
    },
    {
      "cell_type": "code",
      "source": [
        "plt.style.use('seaborn')\n",
        "fig, ax = plt.subplots(figsize = (12, 8))\n",
        "ber_data = np.random.binomial(1000, 0.5, size = 10000)\n",
        "ax.hist(ber_data, bins = 40)\n",
        "fig.savefig('binomial.png')\n",
        "plt.show()"
      ],
      "metadata": {
        "colab": {
          "base_uri": "https://localhost:8080/",
          "height": 483
        },
        "id": "_zrA1H7B2Sl3",
        "outputId": "f9617ab5-1a38-4e91-9fc1-9014fa155a8d"
      },
      "execution_count": 22,
      "outputs": [
        {
          "output_type": "display_data",
          "data": {
            "text/plain": [
              "<Figure size 864x576 with 1 Axes>"
            ],
            "image/png": "[encoded data removed]"
          },
          "metadata": {}
        }
      ]
    },
    {
      "cell_type": "code",
      "source": [
        "# Simulation is a great way to predict the probabilities\n",
        "# Let's say we want to calculate the probability of earthquake in Delhi at any given day\n",
        "# We know that probability of earthquake in Delhi at any given day is 2%\n",
        "# What is the chance that earthquake will happen in 2 consecutive days?\n",
        "# ************************************************************************\n",
        "\n",
        "\n",
        "chance_of_earthquake = 0.02\n",
        "earthquake_events = np.random.binomial(1, chance_of_earthquake, 20000)\n",
        "print(earthquake_events)\n",
        "two_days_in_a_row = 0\n",
        "for i in range(0, len(earthquake_events)-1):\n",
        "        if earthquake_events[i] == 1 and earthquake_events[i-1]==1:\n",
        "            two_days_in_a_row +=1\n",
        "            \n",
        "print('{} earthquakes back to back in {} years.'.format(two_days_in_a_row,20000/365))\n"
      ],
      "metadata": {
        "colab": {
          "base_uri": "https://localhost:8080/"
        },
        "id": "WAIJFbzs5Vj3",
        "outputId": "023bb363-2f7e-4e83-8791-f073175c94df"
      },
      "execution_count": 30,
      "outputs": [
        {
          "output_type": "stream",
          "name": "stdout",
          "text": [
            "[0 0 0 ... 0 0 0]\n",
            "7 earthquakes back to back in 54.794520547945204 years.\n"
          ]
        }
      ]
    },
    {
      "cell_type": "code",
      "source": [
        ""
      ],
      "metadata": {
        "id": "p-94fJHZ_VBC"
      },
      "execution_count": 28,
      "outputs": []
    }
  ]
}