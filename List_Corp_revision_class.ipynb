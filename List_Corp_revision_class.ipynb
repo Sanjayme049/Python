{
  "nbformat": 4,
  "nbformat_minor": 0,
  "metadata": {
    "colab": {
      "name": "List_Corp_revision_class.ipynb",
      "provenance": [],
      "authorship_tag": "ABX9TyOcvSgW94iV4DGzY8kRohMq",
      "include_colab_link": true
    },
    "kernelspec": {
      "name": "python3",
      "display_name": "Python 3"
    },
    "language_info": {
      "name": "python"
    }
  },
  "cells": [
    {
      "cell_type": "markdown",
      "metadata": {
        "id": "view-in-github",
        "colab_type": "text"
      },
      "source": [
        "<a href=\"https://colab.research.google.com/github/Sanjayme049/Python/blob/main/List_Corp_revision_class.ipynb\" target=\"_parent\"><img src=\"https://colab.research.google.com/assets/colab-badge.svg\" alt=\"Open In Colab\"/></a>"
      ]
    },
    {
      "cell_type": "code",
      "execution_count": 1,
      "metadata": {
        "id": "yc6dyqkRHYAy"
      },
      "outputs": [],
      "source": [
        "y = [1,2,3,4,5]\n",
        "x = [9,0,7]\n",
        "y.append(x)"
      ]
    },
    {
      "cell_type": "code",
      "source": [
        "y"
      ],
      "metadata": {
        "colab": {
          "base_uri": "https://localhost:8080/"
        },
        "id": "6KO5obTmH4pM",
        "outputId": "32c3facd-e36f-448e-a4cf-4286e820515b"
      },
      "execution_count": 2,
      "outputs": [
        {
          "output_type": "execute_result",
          "data": {
            "text/plain": [
              "[1, 2, 3, 4, 5, [9, 0, 7]]"
            ]
          },
          "metadata": {},
          "execution_count": 2
        }
      ]
    },
    {
      "cell_type": "code",
      "source": [
        "y = [1,2,3,4,5]\n",
        "x = [9,0,7]\n",
        "y.extend(x)"
      ],
      "metadata": {
        "id": "CaN1fZbfH809"
      },
      "execution_count": 3,
      "outputs": []
    },
    {
      "cell_type": "code",
      "source": [
        "y"
      ],
      "metadata": {
        "colab": {
          "base_uri": "https://localhost:8080/"
        },
        "id": "ZIqVoTcvICwE",
        "outputId": "474536f8-628a-447f-fd6e-343cf2b779df"
      },
      "execution_count": 4,
      "outputs": [
        {
          "output_type": "execute_result",
          "data": {
            "text/plain": [
              "[1, 2, 3, 4, 5, 9, 0, 7]"
            ]
          },
          "metadata": {},
          "execution_count": 4
        }
      ]
    },
    {
      "cell_type": "code",
      "source": [
        "x = (1,2,4)\n",
        "y = list(x)"
      ],
      "metadata": {
        "id": "5opgIuEQID_H"
      },
      "execution_count": 8,
      "outputs": []
    },
    {
      "cell_type": "code",
      "source": [
        "y"
      ],
      "metadata": {
        "colab": {
          "base_uri": "https://localhost:8080/"
        },
        "id": "X5AcYCMvIzYj",
        "outputId": "be0bd88a-20f9-4e8f-fd9e-48061514036f"
      },
      "execution_count": 9,
      "outputs": [
        {
          "output_type": "execute_result",
          "data": {
            "text/plain": [
              "[1, 2, 4]"
            ]
          },
          "metadata": {},
          "execution_count": 9
        }
      ]
    },
    {
      "cell_type": "code",
      "source": [
        "#Lists are heterogeneous\n",
        "dir(y)"
      ],
      "metadata": {
        "colab": {
          "base_uri": "https://localhost:8080/"
        },
        "id": "G8bdibBnKJkB",
        "outputId": "5d7f3ab3-8541-4575-bc94-7c3fe9a3f44a"
      },
      "execution_count": 10,
      "outputs": [
        {
          "output_type": "execute_result",
          "data": {
            "text/plain": [
              "['__add__',\n",
              " '__class__',\n",
              " '__contains__',\n",
              " '__delattr__',\n",
              " '__delitem__',\n",
              " '__dir__',\n",
              " '__doc__',\n",
              " '__eq__',\n",
              " '__format__',\n",
              " '__ge__',\n",
              " '__getattribute__',\n",
              " '__getitem__',\n",
              " '__gt__',\n",
              " '__hash__',\n",
              " '__iadd__',\n",
              " '__imul__',\n",
              " '__init__',\n",
              " '__init_subclass__',\n",
              " '__iter__',\n",
              " '__le__',\n",
              " '__len__',\n",
              " '__lt__',\n",
              " '__mul__',\n",
              " '__ne__',\n",
              " '__new__',\n",
              " '__reduce__',\n",
              " '__reduce_ex__',\n",
              " '__repr__',\n",
              " '__reversed__',\n",
              " '__rmul__',\n",
              " '__setattr__',\n",
              " '__setitem__',\n",
              " '__sizeof__',\n",
              " '__str__',\n",
              " '__subclasshook__',\n",
              " 'append',\n",
              " 'clear',\n",
              " 'copy',\n",
              " 'count',\n",
              " 'extend',\n",
              " 'index',\n",
              " 'insert',\n",
              " 'pop',\n",
              " 'remove',\n",
              " 'reverse',\n",
              " 'sort']"
            ]
          },
          "metadata": {},
          "execution_count": 10
        }
      ]
    },
    {
      "cell_type": "code",
      "source": [
        "y = [1,2,3,4]\n",
        "\n",
        "y + [5]\n"
      ],
      "metadata": {
        "colab": {
          "base_uri": "https://localhost:8080/"
        },
        "id": "rt627LrkKkRc",
        "outputId": "26f91398-1acf-4a3a-b44f-6c2067ad08ec"
      },
      "execution_count": 11,
      "outputs": [
        {
          "output_type": "execute_result",
          "data": {
            "text/plain": [
              "[1, 2, 3, 4, 5]"
            ]
          },
          "metadata": {},
          "execution_count": 11
        }
      ]
    },
    {
      "cell_type": "code",
      "source": [
        "y = [1,2,3,4]\n",
        "y.append(5)\n"
      ],
      "metadata": {
        "id": "PwHvrxOpNTEu"
      },
      "execution_count": 12,
      "outputs": []
    },
    {
      "cell_type": "code",
      "source": [
        "y"
      ],
      "metadata": {
        "colab": {
          "base_uri": "https://localhost:8080/"
        },
        "id": "_UmmVLLHOQK4",
        "outputId": "7a459cbc-4d69-4727-87f7-1e83de8e7b74"
      },
      "execution_count": 13,
      "outputs": [
        {
          "output_type": "execute_result",
          "data": {
            "text/plain": [
              "[1, 2, 3, 4, 5]"
            ]
          },
          "metadata": {},
          "execution_count": 13
        }
      ]
    },
    {
      "cell_type": "code",
      "source": [
        "y.clear()"
      ],
      "metadata": {
        "id": "z6lCs1kqOQtw"
      },
      "execution_count": 14,
      "outputs": []
    },
    {
      "cell_type": "code",
      "source": [
        "y = [1,2,3,4]\n",
        "x = y.copy()"
      ],
      "metadata": {
        "id": "utxxPF3zObJQ"
      },
      "execution_count": 15,
      "outputs": []
    },
    {
      "cell_type": "code",
      "source": [
        "x"
      ],
      "metadata": {
        "colab": {
          "base_uri": "https://localhost:8080/"
        },
        "id": "pMMJ3wdJPgwa",
        "outputId": "38820a80-f6c8-4801-9bd5-9543fbe2b7c3"
      },
      "execution_count": 16,
      "outputs": [
        {
          "output_type": "execute_result",
          "data": {
            "text/plain": [
              "[1, 2, 3, 4]"
            ]
          },
          "metadata": {},
          "execution_count": 16
        }
      ]
    },
    {
      "cell_type": "code",
      "source": [
        "x[0] = 10"
      ],
      "metadata": {
        "id": "mOipQnFdPhy-"
      },
      "execution_count": 17,
      "outputs": []
    },
    {
      "cell_type": "code",
      "source": [
        "x"
      ],
      "metadata": {
        "colab": {
          "base_uri": "https://localhost:8080/"
        },
        "id": "7YbHVarPPkbm",
        "outputId": "4e782b0e-9ddf-49bc-f481-b29b17921ce8"
      },
      "execution_count": 18,
      "outputs": [
        {
          "output_type": "execute_result",
          "data": {
            "text/plain": [
              "[10, 2, 3, 4]"
            ]
          },
          "metadata": {},
          "execution_count": 18
        }
      ]
    },
    {
      "cell_type": "code",
      "source": [
        "y"
      ],
      "metadata": {
        "colab": {
          "base_uri": "https://localhost:8080/"
        },
        "id": "-oClkUFQPlHM",
        "outputId": "c8b2d301-1429-4e5c-cad8-7eec53cbed2b"
      },
      "execution_count": 19,
      "outputs": [
        {
          "output_type": "execute_result",
          "data": {
            "text/plain": [
              "[1, 2, 3, 4]"
            ]
          },
          "metadata": {},
          "execution_count": 19
        }
      ]
    },
    {
      "cell_type": "code",
      "source": [
        "z = [1,5,10,10]\n",
        "a = z.copy()"
      ],
      "metadata": {
        "id": "9dqItTQSPmGP"
      },
      "execution_count": 20,
      "outputs": []
    },
    {
      "cell_type": "code",
      "source": [
        "a"
      ],
      "metadata": {
        "colab": {
          "base_uri": "https://localhost:8080/"
        },
        "id": "6MIdYmCvPvuR",
        "outputId": "45765c38-cdd3-4666-aeb3-51fd36792eea"
      },
      "execution_count": 21,
      "outputs": [
        {
          "output_type": "execute_result",
          "data": {
            "text/plain": [
              "[1, 5, 10, 10]"
            ]
          },
          "metadata": {},
          "execution_count": 21
        }
      ]
    },
    {
      "cell_type": "code",
      "source": [
        "a[1] = 25"
      ],
      "metadata": {
        "id": "7EywEdXQPwUu"
      },
      "execution_count": 22,
      "outputs": []
    },
    {
      "cell_type": "code",
      "source": [
        "a"
      ],
      "metadata": {
        "colab": {
          "base_uri": "https://localhost:8080/"
        },
        "id": "HTLfkTtGPzgW",
        "outputId": "3f2c5f74-eefb-4123-eaa6-9cafe3fdb543"
      },
      "execution_count": 23,
      "outputs": [
        {
          "output_type": "execute_result",
          "data": {
            "text/plain": [
              "[1, 25, 10, 10]"
            ]
          },
          "metadata": {},
          "execution_count": 23
        }
      ]
    },
    {
      "cell_type": "code",
      "source": [
        "a = [1, 2, 3, 4, 3]\n",
        "a.count(3)"
      ],
      "metadata": {
        "colab": {
          "base_uri": "https://localhost:8080/"
        },
        "id": "8xhF2pDiP0WF",
        "outputId": "4af968a7-a156-4a24-e756-9cb923ec8e27"
      },
      "execution_count": 25,
      "outputs": [
        {
          "output_type": "execute_result",
          "data": {
            "text/plain": [
              "2"
            ]
          },
          "metadata": {},
          "execution_count": 25
        }
      ]
    },
    {
      "cell_type": "code",
      "source": [
        "a = [1, 2, 3, 4, 3,3,3]\n",
        "cnt = 0\n",
        "for i in a:\n",
        "  if i==3:\n",
        "    cnt+=1\n",
        "print(cnt)\n",
        "    "
      ],
      "metadata": {
        "colab": {
          "base_uri": "https://localhost:8080/"
        },
        "id": "wkNFoQZLQ_h9",
        "outputId": "973b7f75-f48e-4420-b666-be65ebaf4002"
      },
      "execution_count": 29,
      "outputs": [
        {
          "output_type": "stream",
          "name": "stdout",
          "text": [
            "4\n"
          ]
        }
      ]
    },
    {
      "cell_type": "code",
      "source": [
        "y = [1, 2, 3, 4, 3]\n",
        "x = [10,20,30]\n",
        "y.append(x)"
      ],
      "metadata": {
        "id": "BEaqGJhsReWP"
      },
      "execution_count": 30,
      "outputs": []
    },
    {
      "cell_type": "code",
      "source": [
        "y"
      ],
      "metadata": {
        "colab": {
          "base_uri": "https://localhost:8080/"
        },
        "id": "WxhV91wDTMaN",
        "outputId": "6b52c797-94f7-4f68-8ed3-64e90af7e761"
      },
      "execution_count": 31,
      "outputs": [
        {
          "output_type": "execute_result",
          "data": {
            "text/plain": [
              "[1, 2, 3, 4, 3, [10, 20, 30]]"
            ]
          },
          "metadata": {},
          "execution_count": 31
        }
      ]
    },
    {
      "cell_type": "code",
      "source": [
        "y = [1, 2, 3, 4, 3]\n",
        "x = [10,20,30]\n",
        "y.extend(x)"
      ],
      "metadata": {
        "id": "JBSy4_wrTO-l"
      },
      "execution_count": 32,
      "outputs": []
    },
    {
      "cell_type": "code",
      "source": [
        "y"
      ],
      "metadata": {
        "colab": {
          "base_uri": "https://localhost:8080/"
        },
        "id": "4EdilvE7TUJA",
        "outputId": "798869fe-6280-4a03-9208-4eee70f11ce0"
      },
      "execution_count": 33,
      "outputs": [
        {
          "output_type": "execute_result",
          "data": {
            "text/plain": [
              "[1, 2, 3, 4, 3, 10, 20, 30]"
            ]
          },
          "metadata": {},
          "execution_count": 33
        }
      ]
    },
    {
      "cell_type": "code",
      "source": [
        "y = [1, 2, 3, 4, 3]\n",
        "x = 'hello'\n",
        "\n",
        "y.extend(x)"
      ],
      "metadata": {
        "id": "9K4jt1wyTXJn"
      },
      "execution_count": 34,
      "outputs": []
    },
    {
      "cell_type": "code",
      "source": [
        "y"
      ],
      "metadata": {
        "colab": {
          "base_uri": "https://localhost:8080/"
        },
        "id": "_cwju_iATsjX",
        "outputId": "00b106da-6350-48c1-db88-8631a9e65b1c"
      },
      "execution_count": 35,
      "outputs": [
        {
          "output_type": "execute_result",
          "data": {
            "text/plain": [
              "[1, 2, 3, 4, 3, 'h', 'e', 'l', 'l', 'o']"
            ]
          },
          "metadata": {},
          "execution_count": 35
        }
      ]
    },
    {
      "cell_type": "code",
      "source": [
        "y = [1, 2, 3, 4, 3]\n",
        "x = 'hello'\n",
        "\n",
        "y.append(x)"
      ],
      "metadata": {
        "id": "t0c-PJ56TtRY"
      },
      "execution_count": 36,
      "outputs": []
    },
    {
      "cell_type": "code",
      "source": [
        "y"
      ],
      "metadata": {
        "colab": {
          "base_uri": "https://localhost:8080/"
        },
        "id": "t3_2kelnT1ko",
        "outputId": "9f71f553-2072-4987-d2ea-e5dab6aa43e2"
      },
      "execution_count": 37,
      "outputs": [
        {
          "output_type": "execute_result",
          "data": {
            "text/plain": [
              "[1, 2, 3, 4, 3, 'hello']"
            ]
          },
          "metadata": {},
          "execution_count": 37
        }
      ]
    },
    {
      "cell_type": "code",
      "source": [
        "y = [1, 2, 3, 4, 3]\n",
        "y.index(3)"
      ],
      "metadata": {
        "colab": {
          "base_uri": "https://localhost:8080/"
        },
        "id": "jLUfP5C4T2ZK",
        "outputId": "796e71ce-8b7b-4c59-d0cc-1bf692b476ae"
      },
      "execution_count": 38,
      "outputs": [
        {
          "output_type": "execute_result",
          "data": {
            "text/plain": [
              "2"
            ]
          },
          "metadata": {},
          "execution_count": 38
        }
      ]
    },
    {
      "cell_type": "code",
      "source": [
        "y"
      ],
      "metadata": {
        "colab": {
          "base_uri": "https://localhost:8080/"
        },
        "id": "HVjOnjjcUKM4",
        "outputId": "a7e308cc-802a-4e15-bd8d-a48ff29c6450"
      },
      "execution_count": 39,
      "outputs": [
        {
          "output_type": "execute_result",
          "data": {
            "text/plain": [
              "[1, 2, 3, 4, 3]"
            ]
          },
          "metadata": {},
          "execution_count": 39
        }
      ]
    },
    {
      "cell_type": "code",
      "source": [
        "y = [1, 2, 3, 4, 3]\n",
        "\n",
        "\n",
        "inc = 0\n",
        "for i in y:\n",
        "  if i ==3:\n",
        "    print(inc)\n",
        "  inc+=1\n",
        "\n",
        "\n",
        "\n"
      ],
      "metadata": {
        "colab": {
          "base_uri": "https://localhost:8080/"
        },
        "id": "t-8UapAnUKvA",
        "outputId": "08e0ebfe-6185-40e0-e9fe-d79ed6fd23a1"
      },
      "execution_count": 43,
      "outputs": [
        {
          "output_type": "stream",
          "name": "stdout",
          "text": [
            "2\n",
            "4\n"
          ]
        }
      ]
    },
    {
      "cell_type": "code",
      "source": [
        "y = [1, 2, 3, 4, 3]\n",
        "y.insert(3,'hello')\n",
        "y"
      ],
      "metadata": {
        "colab": {
          "base_uri": "https://localhost:8080/"
        },
        "id": "ObixNhLzVbn0",
        "outputId": "e5f8bac1-0a6e-4d3d-d26f-19488adc554a"
      },
      "execution_count": 44,
      "outputs": [
        {
          "output_type": "execute_result",
          "data": {
            "text/plain": [
              "[1, 2, 3, 'hello', 4, 3]"
            ]
          },
          "metadata": {},
          "execution_count": 44
        }
      ]
    },
    {
      "cell_type": "code",
      "source": [
        "y = [10, 20, 30, 40, 50, 60, 70]\n",
        "val = 'hello'\n",
        "\n",
        "z = []\n",
        "\n",
        "for i in range(len(y)):\n",
        "  if i==4:\n",
        "    z.append(val)\n",
        "  else:\n",
        "    z.append(y[i])\n",
        "print(z)\n",
        "\n"
      ],
      "metadata": {
        "colab": {
          "base_uri": "https://localhost:8080/"
        },
        "id": "Xqecr-aRWsAo",
        "outputId": "68324256-3e16-4956-b0df-a9359b5d2a88"
      },
      "execution_count": 48,
      "outputs": [
        {
          "output_type": "stream",
          "name": "stdout",
          "text": [
            "[10, 20, 30, 40, 'hello', 60, 70]\n"
          ]
        }
      ]
    },
    {
      "cell_type": "code",
      "source": [
        "#for loop dynamically checks the length of the iterator\n",
        "#change of index position can affect the for loop\n",
        "\n"
      ],
      "metadata": {
        "id": "WNs9DbuSXfle"
      },
      "execution_count": 49,
      "outputs": []
    },
    {
      "cell_type": "code",
      "source": [
        "y = [1, 2, 3, 4, 3]\n",
        "y.pop(2)\n"
      ],
      "metadata": {
        "colab": {
          "base_uri": "https://localhost:8080/"
        },
        "id": "4GhSTr-kdcSY",
        "outputId": "70f54dd3-8a69-4437-e191-fdc2edc6cc9a"
      },
      "execution_count": 52,
      "outputs": [
        {
          "output_type": "execute_result",
          "data": {
            "text/plain": [
              "3"
            ]
          },
          "metadata": {},
          "execution_count": 52
        }
      ]
    },
    {
      "cell_type": "code",
      "source": [
        "y"
      ],
      "metadata": {
        "colab": {
          "base_uri": "https://localhost:8080/"
        },
        "id": "zCHd-VSFdtk6",
        "outputId": "b6a3927e-6099-4354-ed3e-6c8c48c60c0c"
      },
      "execution_count": 53,
      "outputs": [
        {
          "output_type": "execute_result",
          "data": {
            "text/plain": [
              "[1, 2, 4, 3]"
            ]
          },
          "metadata": {},
          "execution_count": 53
        }
      ]
    },
    {
      "cell_type": "code",
      "source": [
        "#return-return the new value/list/tuple/ ie.New memory is created\n",
        "\n",
        "#Inplace-changes the original value ie.No new memory\n",
        "#inplace variable cannot store or return other variable\n"
      ],
      "metadata": {
        "id": "EiXhEyF1duN9"
      },
      "execution_count": 54,
      "outputs": []
    },
    {
      "cell_type": "code",
      "source": [
        "y = [10,20,30,40,50]\n",
        "y.remove(20)\n",
        "y"
      ],
      "metadata": {
        "colab": {
          "base_uri": "https://localhost:8080/"
        },
        "id": "k9bBmuTPfjlx",
        "outputId": "5047d8b2-9bf2-47c2-c61b-e01422a33a68"
      },
      "execution_count": 57,
      "outputs": [
        {
          "output_type": "execute_result",
          "data": {
            "text/plain": [
              "[10, 30, 40, 50]"
            ]
          },
          "metadata": {},
          "execution_count": 57
        }
      ]
    },
    {
      "cell_type": "code",
      "source": [
        "# y = [10,20,30,40,50,30,30]\n",
        "\n",
        "# myList = [10,20,30,40,50,30,30]\n",
        "# valueToBeRemoved = 30\n",
        " \n",
        "# try:\n",
        "#     while True:\n",
        "#         myList.remove(valueToBeRemoved)\n",
        "# except ValueError:\n",
        "#     pass\n",
        " \n",
        "# print(myList)"
      ],
      "metadata": {
        "colab": {
          "base_uri": "https://localhost:8080/"
        },
        "id": "fI9oY82ef2cZ",
        "outputId": "c895c04c-9ef6-4bd0-97a4-2d8fc175e55c"
      },
      "execution_count": 58,
      "outputs": [
        {
          "output_type": "stream",
          "name": "stdout",
          "text": [
            "[10, 20, 40, 50]\n"
          ]
        }
      ]
    },
    {
      "cell_type": "code",
      "source": [
        "y = [10,20,30,40,50,30,30]\n",
        "cnt = y.count(30)\n",
        "print(cnt)\n",
        "for i in range(cnt):\n",
        "  y.remove(30)\n",
        "print(y)\n",
        "    \n"
      ],
      "metadata": {
        "colab": {
          "base_uri": "https://localhost:8080/"
        },
        "id": "vw2DDEBUg-5T",
        "outputId": "bd319fae-c825-4d9f-97b9-5e8c84df3408"
      },
      "execution_count": 61,
      "outputs": [
        {
          "output_type": "stream",
          "name": "stdout",
          "text": [
            "3\n",
            "[10, 20, 40, 50]\n"
          ]
        }
      ]
    },
    {
      "cell_type": "code",
      "source": [
        "y = [10,20,30,40,50,30,30]\n",
        "k=y.reverse()\n",
        "k"
      ],
      "metadata": {
        "id": "Tw-5Xg6Th86R"
      },
      "execution_count": 62,
      "outputs": []
    },
    {
      "cell_type": "code",
      "source": [
        "y = [10,20,30,40,50,30,30]\n",
        "y.reverse()\n",
        "y"
      ],
      "metadata": {
        "colab": {
          "base_uri": "https://localhost:8080/"
        },
        "id": "vvSycrJqj9cm",
        "outputId": "49b47f7f-9d62-49c0-c963-26a25ceb33f2"
      },
      "execution_count": 63,
      "outputs": [
        {
          "output_type": "execute_result",
          "data": {
            "text/plain": [
              "[30, 30, 50, 40, 30, 20, 10]"
            ]
          },
          "metadata": {},
          "execution_count": 63
        }
      ]
    },
    {
      "cell_type": "code",
      "source": [
        "y = [10,20,30,40,50,30,30]\n",
        "k = y[::-1] #reverse through slicing\n",
        "print(k)"
      ],
      "metadata": {
        "colab": {
          "base_uri": "https://localhost:8080/"
        },
        "id": "6QVl7pzjkFXN",
        "outputId": "c60bfbfd-0a55-47d3-e506-f062c38ad297"
      },
      "execution_count": 64,
      "outputs": [
        {
          "output_type": "stream",
          "name": "stdout",
          "text": [
            "[30, 30, 50, 40, 30, 20, 10]\n"
          ]
        }
      ]
    },
    {
      "cell_type": "code",
      "source": [
        ""
      ],
      "metadata": {
        "id": "jBqVClKVkZfu"
      },
      "execution_count": null,
      "outputs": []
    }
  ]
}