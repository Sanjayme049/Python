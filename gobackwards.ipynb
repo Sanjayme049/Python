{
  "nbformat": 4,
  "nbformat_minor": 0,
  "metadata": {
    "colab": {
      "name": "gobackwards.ipynb",
      "provenance": [],
      "authorship_tag": "ABX9TyM80B4rk2UhouTI0p4aOsLE",
      "include_colab_link": true
    },
    "kernelspec": {
      "name": "python3",
      "display_name": "Python 3"
    },
    "language_info": {
      "name": "python"
    }
  },
  "cells": [
    {
      "cell_type": "markdown",
      "metadata": {
        "id": "view-in-github",
        "colab_type": "text"
      },
      "source": [
        "<a href=\"https://colab.research.google.com/github/Sanjayme049/Python/blob/main/gobackwards.ipynb\" target=\"_parent\"><img src=\"https://colab.research.google.com/assets/colab-badge.svg\" alt=\"Open In Colab\"/></a>"
      ]
    },
    {
      "cell_type": "code",
      "execution_count": 2,
      "metadata": {
        "colab": {
          "base_uri": "https://localhost:8080/"
        },
        "id": "1kbqOjVgeUNn",
        "outputId": "1f24f135-885a-4b0d-d29b-f39c1dd91e1e"
      },
      "outputs": [
        {
          "output_type": "stream",
          "name": "stdout",
          "text": [
            "9 [104, 101, 4, 105, 308, 103, 5, 107, 100, 306, 106, 102, 108]\n",
            "6 [104, 101, 4, 105, 308, 103, 5, 107, 100, 106, 102, 108]\n",
            "4 [104, 101, 4, 105, 308, 103, 107, 100, 106, 102, 108]\n",
            "2 [104, 101, 4, 105, 103, 107, 100, 106, 102, 108]\n"
          ]
        }
      ],
      "source": [
        "data = [104, 101, 4, 105, 308, 103, 5, \n",
        "        107, 100, 306, 106, 102, 108]\n",
        "\n",
        "min_valid = 100\n",
        "max_valid = 200\n",
        "\n",
        "for index in (range(len(data) -1, -1, -1)):\n",
        "  if data[index] < min_valid or data[index] > max_valid:\n",
        "    print(index,data)\n",
        "    del data[index]\n",
        "# print(data)"
      ]
    },
    {
      "cell_type": "code",
      "source": [
        "len(data)"
      ],
      "metadata": {
        "colab": {
          "base_uri": "https://localhost:8080/"
        },
        "id": "tLEWCa4Ufk7i",
        "outputId": "9d4619e4-f44d-48e5-ea79-653b53be7b1b"
      },
      "execution_count": null,
      "outputs": [
        {
          "output_type": "execute_result",
          "data": {
            "text/plain": [
              "13"
            ]
          },
          "metadata": {},
          "execution_count": 8
        }
      ]
    },
    {
      "cell_type": "code",
      "source": [
        "range(12,-1,-1)"
      ],
      "metadata": {
        "colab": {
          "base_uri": "https://localhost:8080/"
        },
        "id": "elaEtPfAhyjq",
        "outputId": "662dd76e-4563-49d5-8e41-9e76d3a8c1de"
      },
      "execution_count": null,
      "outputs": [
        {
          "output_type": "execute_result",
          "data": {
            "text/plain": [
              "range(12, -1, -1)"
            ]
          },
          "metadata": {},
          "execution_count": 9
        }
      ]
    },
    {
      "cell_type": "code",
      "source": [
        "range(len(data)-1)"
      ],
      "metadata": {
        "colab": {
          "base_uri": "https://localhost:8080/"
        },
        "id": "kcZYXC9eiDRi",
        "outputId": "3677c5ec-00ae-4c1a-a30d-87570e2feb40"
      },
      "execution_count": null,
      "outputs": [
        {
          "output_type": "execute_result",
          "data": {
            "text/plain": [
              "range(0, 12)"
            ]
          },
          "metadata": {},
          "execution_count": 10
        }
      ]
    },
    {
      "cell_type": "code",
      "source": [
        "a = [2,3,4,5,6,7,8]"
      ],
      "metadata": {
        "id": "hIxAK5_5iMzQ"
      },
      "execution_count": null,
      "outputs": []
    },
    {
      "cell_type": "code",
      "source": [
        "print(a[:-4:-1])"
      ],
      "metadata": {
        "colab": {
          "base_uri": "https://localhost:8080/"
        },
        "id": "DtSy9ZpBi3Of",
        "outputId": "e6bc3563-82f9-4dbf-9019-3639e004a8b1"
      },
      "execution_count": null,
      "outputs": [
        {
          "output_type": "stream",
          "name": "stdout",
          "text": [
            "[8, 7, 6]\n"
          ]
        }
      ]
    },
    {
      "cell_type": "code",
      "source": [
        "print(range(12,-1,-1))"
      ],
      "metadata": {
        "colab": {
          "base_uri": "https://localhost:8080/"
        },
        "id": "ipurLqc5jWHg",
        "outputId": "b185ecd9-9265-4b51-9898-12591b31a30b"
      },
      "execution_count": null,
      "outputs": [
        {
          "output_type": "stream",
          "name": "stdout",
          "text": [
            "range(12, -1, -1)\n"
          ]
        }
      ]
    },
    {
      "cell_type": "code",
      "source": [
        "data = [104, 101, 4, 105, 308, 103, 5, \n",
        "        107, 100, 306, 106, 102, 108]\n",
        "\n",
        "min_valid = 100\n",
        "max_valid = 200\n",
        "\n",
        "for value in (range(len(data) -1, -1, -1)):\n",
        "  print(value)"
      ],
      "metadata": {
        "colab": {
          "base_uri": "https://localhost:8080/"
        },
        "id": "6V-0zeYYkCp3",
        "outputId": "ff38da25-6dc0-4d81-baf1-c37b4b33a08f"
      },
      "execution_count": null,
      "outputs": [
        {
          "output_type": "stream",
          "name": "stdout",
          "text": [
            "12\n",
            "11\n",
            "10\n",
            "9\n",
            "8\n",
            "7\n",
            "6\n",
            "5\n",
            "4\n",
            "3\n",
            "2\n",
            "1\n",
            "0\n"
          ]
        }
      ]
    },
    {
      "cell_type": "code",
      "source": [
        ""
      ],
      "metadata": {
        "id": "n4pJ0vflrEXB"
      },
      "execution_count": null,
      "outputs": []
    }
  ]
}