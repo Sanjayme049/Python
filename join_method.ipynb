{
  "nbformat": 4,
  "nbformat_minor": 0,
  "metadata": {
    "colab": {
      "name": "join method.ipynb",
      "provenance": [],
      "authorship_tag": "ABX9TyPiGsA3IE5mkzF7WEmL6bim",
      "include_colab_link": true
    },
    "kernelspec": {
      "name": "python3",
      "display_name": "Python 3"
    },
    "language_info": {
      "name": "python"
    }
  },
  "cells": [
    {
      "cell_type": "markdown",
      "metadata": {
        "id": "view-in-github",
        "colab_type": "text"
      },
      "source": [
        "<a href=\"https://colab.research.google.com/github/Sanjayme049/Python/blob/main/join_method.ipynb\" target=\"_parent\"><img src=\"https://colab.research.google.com/assets/colab-badge.svg\" alt=\"Open In Colab\"/></a>"
      ]
    },
    {
      "cell_type": "code",
      "execution_count": 2,
      "metadata": {
        "colab": {
          "base_uri": "https://localhost:8080/"
        },
        "id": "Z1cReKQsOaPD",
        "outputId": "47db5dad-16bb-4d09-8f16-4296c4c5dcf4"
      },
      "outputs": [
        {
          "output_type": "stream",
          "name": "stdout",
          "text": [
            "Daffodil\n",
            "Rose\n",
            "sunflower\n",
            "tiger lily\n",
            "Daffodil | Rose | sunflower | tiger lily\n"
          ]
        }
      ],
      "source": [
        "flowers = [\n",
        "           \"Daffodil\",\n",
        "           \"Rose\",\n",
        "           \"sunflower\",\n",
        "           \"tiger lily\",\n",
        "]\n",
        "\n",
        "for flower in flowers:\n",
        "  print(flower)\n",
        "\n",
        "separator = \" | \"\n",
        "output = separator.join(flowers)\n",
        "print(output)"
      ]
    },
    {
      "cell_type": "code",
      "source": [
        "separator = \" , \"\n",
        "output = separator.join(flowers)\n",
        "print(output)"
      ],
      "metadata": {
        "colab": {
          "base_uri": "https://localhost:8080/"
        },
        "id": "DHgtPkFfPBYE",
        "outputId": "910c75a6-e5de-4160-d61d-f7ce0a6f7810"
      },
      "execution_count": 3,
      "outputs": [
        {
          "output_type": "stream",
          "name": "stdout",
          "text": [
            "Daffodil , Rose , sunflower , tiger lily\n"
          ]
        }
      ]
    },
    {
      "cell_type": "code",
      "source": [
        "print(\" . \".join(flowers))"
      ],
      "metadata": {
        "colab": {
          "base_uri": "https://localhost:8080/"
        },
        "id": "GFx7pqucQBYK",
        "outputId": "b3e42080-a3d7-4cf7-8078-c926f3aca4b5"
      },
      "execution_count": 4,
      "outputs": [
        {
          "output_type": "stream",
          "name": "stdout",
          "text": [
            "Daffodil . Rose . sunflower . tiger lily\n"
          ]
        }
      ]
    },
    {
      "cell_type": "code",
      "source": [
        ""
      ],
      "metadata": {
        "id": "pMJanxsUQhtR"
      },
      "execution_count": null,
      "outputs": []
    }
  ]
}