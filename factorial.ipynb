{
  "nbformat": 4,
  "nbformat_minor": 0,
  "metadata": {
    "colab": {
      "provenance": [],
      "authorship_tag": "ABX9TyOXSfJhQNBRH3sNGv8NQ8zU",
      "include_colab_link": true
    },
    "kernelspec": {
      "name": "python3",
      "display_name": "Python 3"
    },
    "language_info": {
      "name": "python"
    }
  },
  "cells": [
    {
      "cell_type": "markdown",
      "metadata": {
        "id": "view-in-github",
        "colab_type": "text"
      },
      "source": [
        "<a href=\"https://colab.research.google.com/github/Sanjayme049/Python/blob/main/factorial.ipynb\" target=\"_parent\"><img src=\"https://colab.research.google.com/assets/colab-badge.svg\" alt=\"Open In Colab\"/></a>"
      ]
    },
    {
      "cell_type": "code",
      "execution_count": 5,
      "metadata": {
        "colab": {
          "base_uri": "https://localhost:8080/"
        },
        "id": "0P3l7iUG3gRy",
        "outputId": "0e9fbeb7-7be9-4d53-9a61-2bc23cf9b80d"
      },
      "outputs": [
        {
          "output_type": "stream",
          "name": "stdout",
          "text": [
            "24\n"
          ]
        }
      ],
      "source": [
        "def fact(n):\n",
        "\n",
        "  f=1\n",
        "\n",
        "  for i in range(1,n+1):\n",
        "    f=f*i\n",
        "\n",
        "  return f\n",
        "\n",
        "\n",
        "n=4\n",
        "\n",
        "result=fact(n)\n",
        "\n",
        "print(result)\n"
      ]
    }
  ]
}