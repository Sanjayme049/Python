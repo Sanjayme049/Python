{
  "nbformat": 4,
  "nbformat_minor": 0,
  "metadata": {
    "colab": {
      "provenance": [],
      "authorship_tag": "ABX9TyPfiu0z+Vhl6SfGg3rwXLu6",
      "include_colab_link": true
    },
    "kernelspec": {
      "name": "python3",
      "display_name": "Python 3"
    },
    "language_info": {
      "name": "python"
    }
  },
  "cells": [
    {
      "cell_type": "markdown",
      "metadata": {
        "id": "view-in-github",
        "colab_type": "text"
      },
      "source": [
        "<a href=\"https://colab.research.google.com/github/Sanjayme049/Python/blob/main/asarray_fromiter_frombuffer.ipynb\" target=\"_parent\"><img src=\"https://colab.research.google.com/assets/colab-badge.svg\" alt=\"Open In Colab\"/></a>"
      ]
    },
    {
      "cell_type": "code",
      "execution_count": 2,
      "metadata": {
        "id": "-vsEj5juxokr"
      },
      "outputs": [],
      "source": [
        "import numpy as np\n"
      ]
    },
    {
      "cell_type": "code",
      "source": [
        "a=np.array([10,20,30,40,50])\n"
      ],
      "metadata": {
        "id": "ImPQR07dyBEy"
      },
      "execution_count": 3,
      "outputs": []
    },
    {
      "cell_type": "code",
      "source": [
        "print(a)"
      ],
      "metadata": {
        "colab": {
          "base_uri": "https://localhost:8080/"
        },
        "id": "03zGjvJ7yOwV",
        "outputId": "7909a9a5-2cb1-44de-a731-48a665c72a55"
      },
      "execution_count": 4,
      "outputs": [
        {
          "output_type": "stream",
          "name": "stdout",
          "text": [
            "[10 20 30 40 50]\n"
          ]
        }
      ]
    },
    {
      "cell_type": "code",
      "source": [
        "res=np.asarray(a,dtype=\"float\",order=\"C\")"
      ],
      "metadata": {
        "id": "mqX-xx1yyRE-"
      },
      "execution_count": 5,
      "outputs": []
    },
    {
      "cell_type": "code",
      "source": [
        "print(res)"
      ],
      "metadata": {
        "colab": {
          "base_uri": "https://localhost:8080/"
        },
        "id": "OkTCnlD_VQtq",
        "outputId": "59c075ec-cf9a-4b71-907a-a1f8fb82db11"
      },
      "execution_count": 6,
      "outputs": [
        {
          "output_type": "stream",
          "name": "stdout",
          "text": [
            "[10. 20. 30. 40. 50.]\n"
          ]
        }
      ]
    },
    {
      "cell_type": "code",
      "source": [
        "b=np.array([[10,20,30],[40,50,60]])"
      ],
      "metadata": {
        "id": "2PFAITbPVjpi"
      },
      "execution_count": 7,
      "outputs": []
    },
    {
      "cell_type": "code",
      "source": [
        "res1=np.asarray(b,dtype=\"int\",order=\"F\")"
      ],
      "metadata": {
        "id": "bmXLyGyqWAQI"
      },
      "execution_count": 8,
      "outputs": []
    },
    {
      "cell_type": "code",
      "source": [
        "res1"
      ],
      "metadata": {
        "colab": {
          "base_uri": "https://localhost:8080/"
        },
        "id": "LRFtFkwVW1Wk",
        "outputId": "d6eb7d5c-4f1a-45e1-82f7-a6f030489329"
      },
      "execution_count": 9,
      "outputs": [
        {
          "output_type": "execute_result",
          "data": {
            "text/plain": [
              "array([[10, 20, 30],\n",
              "       [40, 50, 60]])"
            ]
          },
          "metadata": {},
          "execution_count": 9
        }
      ]
    },
    {
      "cell_type": "code",
      "source": [
        "for i in np.nditer(res1):\n",
        "  print(i)"
      ],
      "metadata": {
        "colab": {
          "base_uri": "https://localhost:8080/"
        },
        "id": "UpJ5ECm8W3j9",
        "outputId": "bc6521c5-b09f-4905-ab86-2532f2250457"
      },
      "execution_count": 10,
      "outputs": [
        {
          "output_type": "stream",
          "name": "stdout",
          "text": [
            "10\n",
            "40\n",
            "20\n",
            "50\n",
            "30\n",
            "60\n"
          ]
        }
      ]
    },
    {
      "cell_type": "code",
      "source": [
        "res2=np.asarray(b,dtype=\"int\",order=\"C\")"
      ],
      "metadata": {
        "id": "xyeOTAZUXpRN"
      },
      "execution_count": 11,
      "outputs": []
    },
    {
      "cell_type": "code",
      "source": [
        "for i in np.nditer(res2):\n",
        "  print(i)\n"
      ],
      "metadata": {
        "colab": {
          "base_uri": "https://localhost:8080/"
        },
        "id": "tCcoXAvRZJJM",
        "outputId": "67db96f1-d294-42e5-88e5-c439aeeaa709"
      },
      "execution_count": 12,
      "outputs": [
        {
          "output_type": "stream",
          "name": "stdout",
          "text": [
            "10\n",
            "20\n",
            "30\n",
            "40\n",
            "50\n",
            "60\n"
          ]
        }
      ]
    },
    {
      "cell_type": "code",
      "source": [
        "s=b\"hello welcome python\""
      ],
      "metadata": {
        "id": "K4x-CvCzZZKJ"
      },
      "execution_count": 13,
      "outputs": []
    },
    {
      "cell_type": "code",
      "source": [
        "c=np.frombuffer(s,dtype=\"S1\",count=-1,offset=0)"
      ],
      "metadata": {
        "id": "8aKoncAcZ33x"
      },
      "execution_count": 14,
      "outputs": []
    },
    {
      "cell_type": "code",
      "source": [
        "print(c)"
      ],
      "metadata": {
        "colab": {
          "base_uri": "https://localhost:8080/"
        },
        "id": "-A6-l2BWaaA5",
        "outputId": "e7221561-5e4d-47b5-bab3-d2a5d7e3aa2a"
      },
      "execution_count": 15,
      "outputs": [
        {
          "output_type": "stream",
          "name": "stdout",
          "text": [
            "[b'h' b'e' b'l' b'l' b'o' b' ' b'w' b'e' b'l' b'c' b'o' b'm' b'e' b' '\n",
            " b'p' b'y' b't' b'h' b'o' b'n']\n"
          ]
        }
      ]
    },
    {
      "cell_type": "code",
      "source": [
        "d=np.frombuffer(s,dtype=\"S1\",count=10,offset=0)"
      ],
      "metadata": {
        "id": "EjMJNTFVacFK"
      },
      "execution_count": 16,
      "outputs": []
    },
    {
      "cell_type": "code",
      "source": [
        "d"
      ],
      "metadata": {
        "colab": {
          "base_uri": "https://localhost:8080/"
        },
        "id": "fdmbNTSzbJVG",
        "outputId": "16008721-70a2-4e1a-e275-df9173469c05"
      },
      "execution_count": 17,
      "outputs": [
        {
          "output_type": "execute_result",
          "data": {
            "text/plain": [
              "array([b'h', b'e', b'l', b'l', b'o', b' ', b'w', b'e', b'l', b'c'],\n",
              "      dtype='|S1')"
            ]
          },
          "metadata": {},
          "execution_count": 17
        }
      ]
    },
    {
      "cell_type": "code",
      "source": [
        "e=np.frombuffer(s,dtype=\"S1\",count=10,offset=2)\n",
        "#S1 is 1 byte data"
      ],
      "metadata": {
        "id": "8xdkeilxbKmD"
      },
      "execution_count": 18,
      "outputs": []
    },
    {
      "cell_type": "code",
      "source": [
        "e"
      ],
      "metadata": {
        "colab": {
          "base_uri": "https://localhost:8080/"
        },
        "id": "rReTX1hzc4UX",
        "outputId": "88198f7c-33da-44ba-fa4b-c29b8df238d5"
      },
      "execution_count": 19,
      "outputs": [
        {
          "output_type": "execute_result",
          "data": {
            "text/plain": [
              "array([b'l', b'l', b'o', b' ', b'w', b'e', b'l', b'c', b'o', b'm'],\n",
              "      dtype='|S1')"
            ]
          },
          "metadata": {},
          "execution_count": 19
        }
      ]
    },
    {
      "cell_type": "code",
      "source": [
        "list=[10,20,30,40,50]"
      ],
      "metadata": {
        "id": "5R8bethfc5mb"
      },
      "execution_count": 20,
      "outputs": []
    },
    {
      "cell_type": "code",
      "source": [
        "f=np.fromiter(list,dtype=\"float\",count=-1)"
      ],
      "metadata": {
        "id": "iZjjZffMdt_L"
      },
      "execution_count": 21,
      "outputs": []
    },
    {
      "cell_type": "code",
      "source": [
        "f"
      ],
      "metadata": {
        "colab": {
          "base_uri": "https://localhost:8080/"
        },
        "id": "sf9Kr5bXd8r6",
        "outputId": "159c17a7-b94d-494c-90e8-d2c505c6d79b"
      },
      "execution_count": 23,
      "outputs": [
        {
          "output_type": "execute_result",
          "data": {
            "text/plain": [
              "array([10., 20., 30., 40., 50.])"
            ]
          },
          "metadata": {},
          "execution_count": 23
        }
      ]
    },
    {
      "cell_type": "code",
      "source": [],
      "metadata": {
        "id": "kkIgj66bd-gb"
      },
      "execution_count": null,
      "outputs": []
    }
  ]
}