{
  "cells": [
    {
      "cell_type": "markdown",
      "metadata": {
        "id": "view-in-github",
        "colab_type": "text"
      },
      "source": [
        "<a href=\"https://colab.research.google.com/github/Sanjayme049/Python/blob/main/list1.ipynb\" target=\"_parent\"><img src=\"https://colab.research.google.com/assets/colab-badge.svg\" alt=\"Open In Colab\"/></a>"
      ]
    },
    {
      "cell_type": "code",
      "execution_count": null,
      "metadata": {
        "id": "KlZH2vOb9qSq"
      },
      "outputs": [],
      "source": [
        ""
      ]
    },
    {
      "cell_type": "code",
      "execution_count": null,
      "metadata": {
        "colab": {
          "background_save": true,
          "base_uri": "https://localhost:8080/"
        },
        "id": "64j9FOkGRl7r",
        "outputId": "a7395789-4799-4cde-f56b-071e4372fb9b"
      },
      "outputs": [
        {
          "name": "stdout",
          "output_type": "stream",
          "text": [
            "['1', '2', '3', '4', '5', '6', '7', '8']\n",
            "1: computer\n",
            "2: monitor\n",
            "3: keyboard\n",
            "4: mouse\n",
            "5: mouse mat\n",
            "6: hdmi cable\n",
            "7: ram\n",
            "8: hard disk\n"
          ]
        }
      ],
      "source": [
        "available_parts = [\"computer\",\n",
        "                  \"monitor\",\n",
        "                  \"keyboard\",\n",
        "                  \"mouse\",\n",
        "                  \"mouse mat\",\n",
        "                  \"hdmi cable\",\n",
        "                  \"ram\",\n",
        "                  \"hard disk\"]\n",
        "current_choice = \"-\"\n",
        "computer_parts = [] # create an empty list\n",
        "valid_choices = []\n",
        "\n",
        "for i in range(1, len(available_parts) + 1):\n",
        "  valid_choices.append(str(i))\n",
        "print(valid_choices)\n",
        "\n",
        "while current_choice !=\"0\":\n",
        "  if current_choice in \"12345678\":\n",
        "    print(\"Adding {}\".format(current_choice))\n",
        "  if current_choice == '1':\n",
        "    computer_parts.append(\"computer\")\n",
        "  elif current_choice == '2':\n",
        "    computer_parts.append(\"monitor\")\n",
        "  elif current_choice == '3':\n",
        "    computer_parts.append(\"keyboard\")\n",
        "  elif current_choice == '4':\n",
        "    computer_parts.append(\"mouse\")\n",
        "  elif current_choice == '5':\n",
        "    computer_parts.append(\"mouse mat\")\n",
        "  elif current_choice == '6':\n",
        "    computer_parts.append(\"hdmi cable\")\n",
        "  elif current_choice == '7':\n",
        "    computer_parts.append(\"ram\")\n",
        "  elif current_choice == '6':\n",
        "    computer_parts.append(\"hard disk\")\n",
        "\n",
        "\n",
        "\n",
        "  else:\n",
        "    for number, part in enumerate(available_parts):\n",
        "      print(\"{0}: {1}\".format(number + 1, part))\n",
        "  current_choice = input()\n",
        "\n",
        "print(computer_parts)\n",
        "  \n",
        "\n"
      ]
    },
    {
      "cell_type": "code",
      "execution_count": null,
      "metadata": {
        "colab": {
          "base_uri": "https://localhost:8080/"
        },
        "id": "ntXxD5OrBZfO",
        "outputId": "03f2c66f-f491-4132-c02c-1606d601aca5"
      },
      "outputs": [
        {
          "name": "stdout",
          "output_type": "stream",
          "text": [
            "0 a\n",
            "1 b\n",
            "2 c\n",
            "3 d\n",
            "4 e\n",
            "5 f\n"
          ]
        }
      ],
      "source": [
        "for index, character in enumerate(\"abcdef\"):\n",
        "  print(index, character)\n"
      ]
    },
    {
      "cell_type": "code",
      "execution_count": null,
      "metadata": {
        "colab": {
          "base_uri": "https://localhost:8080/"
        },
        "id": "iqmglCvnQ0hH",
        "outputId": "1c635c99-3b40-4a24-ac70-4e8b2c9b9d95"
      },
      "outputs": [
        {
          "name": "stdout",
          "output_type": "stream",
          "text": [
            "0 s\n",
            "1 h\n",
            "2 i\n",
            "3 v\n",
            "4 a\n",
            "5 y\n",
            "6 o\n",
            "7 g\n",
            "8 i\n"
          ]
        }
      ],
      "source": [
        "for index, char in enumerate(\"shivayogi\"):\n",
        "  print(index, char)"
      ]
    },
    {
      "cell_type": "code",
      "execution_count": 2,
      "metadata": {
        "id": "j4vCd64hRakG",
        "colab": {
          "base_uri": "https://localhost:8080/"
        },
        "outputId": "286d2368-c836-42f3-913c-354c97e39f43"
      },
      "outputs": [
        {
          "output_type": "stream",
          "name": "stdout",
          "text": [
            "['1', '2', '3', '4', '5', '6', '7', '8']\n",
            "1: computer\n",
            "2: monitor\n",
            "3: keyboard\n",
            "4: mouse\n",
            "5: mouse mat\n",
            "6: hdmi cable\n",
            "7: ram\n",
            "8: hard disk\n",
            "1\n",
            "Adding 1\n",
            "Your list now contains: \n",
            "2\n",
            "Adding 2\n",
            "Your list now contains: \n",
            "3\n",
            "Adding 3\n",
            "Your list now contains: \n",
            "4\n",
            "Adding 4\n",
            "Your list now contains: \n",
            "0\n",
            "['computer', 'monitor', 'keyboard', 'mouse']\n",
            "Added parts successfully\n"
          ]
        }
      ],
      "source": [
        "available_parts = [\"computer\",\n",
        "                  \"monitor\",\n",
        "                  \"keyboard\",\n",
        "                  \"mouse\",\n",
        "                  \"mouse mat\",\n",
        "                  \"hdmi cable\",\n",
        "                  \"ram\",\n",
        "                  \"hard disk\"]\n",
        "current_choice = \"-\"\n",
        "computer_parts = [] # create an empty list\n",
        "valid_choices = []\n",
        "\n",
        "for i in range(1, len(available_parts) + 1):\n",
        "  valid_choices.append(str(i))\n",
        "print(valid_choices)\n",
        "\n",
        "while current_choice !=\"0\":\n",
        "  if current_choice in valid_choices:\n",
        "    \n",
        "    index = int(current_choice) -1\n",
        "    chosen_part = available_parts[index]\n",
        "    if chosen_part in computer_parts:\n",
        "\n",
        "      print(\"Removing {}\".format(current_choice))\n",
        "      computer_parts.remove(chosen_part)\n",
        "    else:\n",
        "      print(\"Adding {}\".format(current_choice))\n",
        "      computer_parts.append(chosen_part)\n",
        "      print(\"Your list now contains: \".format(computer_parts))\n",
        "  \n",
        " \n",
        "\n",
        "  else:\n",
        "    for number, part in enumerate(available_parts):\n",
        "      print(\"{0}: {1}\".format(number + 1, part))\n",
        "  current_choice = input()\n",
        "\n",
        "print(computer_parts)\n",
        "print(\"Added parts successfully\")"
      ]
    },
    {
      "cell_type": "code",
      "source": [
        "data = [\n",
        "    \"Andromeda - Shrub\",\n",
        "    \"Bellflower - Flower\",\n",
        "    \"China Pink - Flower\",\n",
        "    \"Daffodil - Flower\",\n",
        "    \"Evening Primrose - Flower\",\n",
        "    \"French Marigold - Flower\",\n",
        "    \"Hydrangea - Shrub\",\n",
        "    \"Iris - Flower\",\n",
        "    \"Japanese Camellia - Shrub\",\n",
        "    \"Lavender - Shrub\",\n",
        "    \"Lilac - Shrub\",\n",
        "    \"Magnolia - Shrub\",\n",
        "    \"Peony - Shrub\",\n",
        "    \"Queen Anne's Lace - Flower\",\n",
        "    \"Red Hot Poker - Flower\",\n",
        "    \"Snapdragon - Flower\",\n",
        "    \"Sunflower - Flower\",\n",
        "    \"Tiger Lily - Flower\",\n",
        "    \"Witch Hazel - Shrub\",\n",
        "]\n",
        "\n",
        "flowers = []\n",
        "shrubs = []\n",
        "\n",
        "# write your code here\n",
        "for plant in data:\n",
        "    if \"Flower\" in plant:\n",
        "        flowers.append(plant)\n",
        "    elif \"Shrub\" in plant:\n",
        "        shrubs.append(plant)\n"
      ],
      "metadata": {
        "id": "k-dTofcgcDaf"
      },
      "execution_count": null,
      "outputs": []
    },
    {
      "cell_type": "code",
      "source": [
        ""
      ],
      "metadata": {
        "id": "PEyjRvkqW7ID"
      },
      "execution_count": null,
      "outputs": []
    }
  ],
  "metadata": {
    "colab": {
      "name": "list1.ipynb",
      "provenance": [],
      "authorship_tag": "ABX9TyNY/azZUHI1kK4Vu2dI2jxp",
      "include_colab_link": true
    },
    "kernelspec": {
      "display_name": "Python 3",
      "name": "python3"
    },
    "language_info": {
      "name": "python"
    }
  },
  "nbformat": 4,
  "nbformat_minor": 0
}