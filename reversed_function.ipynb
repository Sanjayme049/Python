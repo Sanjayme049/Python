{
  "nbformat": 4,
  "nbformat_minor": 0,
  "metadata": {
    "colab": {
      "name": "reversed_function.ipynb",
      "provenance": [],
      "authorship_tag": "ABX9TyP8OW2KwRm+yr4KbkTN9GAg",
      "include_colab_link": true
    },
    "kernelspec": {
      "name": "python3",
      "display_name": "Python 3"
    },
    "language_info": {
      "name": "python"
    }
  },
  "cells": [
    {
      "cell_type": "markdown",
      "metadata": {
        "id": "view-in-github",
        "colab_type": "text"
      },
      "source": [
        "<a href=\"https://colab.research.google.com/github/Sanjayme049/Python/blob/main/reversed_function.ipynb\" target=\"_parent\"><img src=\"https://colab.research.google.com/assets/colab-badge.svg\" alt=\"Open In Colab\"/></a>"
      ]
    },
    {
      "cell_type": "code",
      "execution_count": 1,
      "metadata": {
        "colab": {
          "base_uri": "https://localhost:8080/"
        },
        "id": "AjskynJFf5_Y",
        "outputId": "2a8ae723-d168-4e2b-8bf3-69b945d23513"
      },
      "outputs": [
        {
          "output_type": "stream",
          "name": "stdout",
          "text": [
            "0 6\n",
            "1 300\n",
            "2 107\n",
            "3 5\n",
            "4 103\n",
            "5 308\n",
            "6 105\n",
            "7 1\n",
            "8 101\n",
            "9 104\n"
          ]
        }
      ],
      "source": [
        "data = [104, 101, 1, 105,308, 103, 5,\n",
        "        107, 300, 6]\n",
        "for index, value in enumerate(reversed(data)):\n",
        "  print(index, value)"
      ]
    },
    {
      "cell_type": "code",
      "source": [
        "min_value = 100\n",
        "max_value = 200\n",
        "\n",
        "data = [104, 101, 1, 105,308, 103, 5,\n",
        "        107, 300, 6]\n",
        "# print(len(data))\n",
        "top_index = len(data)-1\n",
        "\n",
        "for index, value in enumerate(reversed(data)):\n",
        "  if value < min_value or value > max_value:\n",
        "    del data[top_index - index]\n",
        "\n",
        "    print(top_index - index, value)"
      ],
      "metadata": {
        "colab": {
          "base_uri": "https://localhost:8080/"
        },
        "id": "SFgwg40V_Hf3",
        "outputId": "35dc9067-3f72-4d1a-cf6f-dfc642fa15bf"
      },
      "execution_count": 7,
      "outputs": [
        {
          "output_type": "stream",
          "name": "stdout",
          "text": [
            "9 6\n",
            "8 300\n",
            "6 5\n",
            "4 308\n",
            "2 1\n"
          ]
        }
      ]
    },
    {
      "cell_type": "code",
      "source": [
        ""
      ],
      "metadata": {
        "id": "Kyf5wA0SEywN"
      },
      "execution_count": null,
      "outputs": []
    }
  ]
}