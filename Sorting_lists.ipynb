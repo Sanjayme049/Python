{
  "nbformat": 4,
  "nbformat_minor": 0,
  "metadata": {
    "colab": {
      "name": "Sorting_lists.ipynb",
      "provenance": [],
      "collapsed_sections": [],
      "authorship_tag": "ABX9TyPiQAx828L1CNptkYOyDV2T",
      "include_colab_link": true
    },
    "kernelspec": {
      "name": "python3",
      "display_name": "Python 3"
    },
    "language_info": {
      "name": "python"
    }
  },
  "cells": [
    {
      "cell_type": "markdown",
      "metadata": {
        "id": "view-in-github",
        "colab_type": "text"
      },
      "source": [
        "<a href=\"https://colab.research.google.com/github/Sanjayme049/Python/blob/main/Sorting_lists.ipynb\" target=\"_parent\"><img src=\"https://colab.research.google.com/assets/colab-badge.svg\" alt=\"Open In Colab\"/></a>"
      ]
    },
    {
      "cell_type": "code",
      "execution_count": 8,
      "metadata": {
        "id": "rGgOeMhQk1ut",
        "colab": {
          "base_uri": "https://localhost:8080/"
        },
        "outputId": "c75fe95e-a993-48f0-e0f8-d2925b4dd57d"
      },
      "outputs": [
        {
          "output_type": "stream",
          "name": "stdout",
          "text": [
            "[' ', ' ', ' ', ' ', ' ', ' ', ' ', ' ', 'T', 'a', 'b', 'c', 'd', 'e', 'e', 'e', 'f', 'g', 'h', 'h', 'i', 'j', 'k', 'l', 'm', 'n', 'o', 'o', 'o', 'p', 'p', 'q', 'r', 'r', 's', 't', 'u', 'u', 'v', 'w', 'x', 'y', 'z']\n",
            "[1.6, 2.3, 3.1, 4.5, 8.7, 9.2]\n",
            "[1.6, 2.3, 3.1, 4.5, 8.7, 9.2]\n"
          ]
        }
      ],
      "source": [
        "pangram = \"The quick brown fox jumps pver the lazy dog\"\n",
        "letters = sorted(pangram)\n",
        "print(letters)\n",
        "\n",
        "numbers = [2.3, 4.5, 8.7, 3.1, 9.2, 1.6]\n",
        "sorted_numbers = sorted(numbers)\n",
        "print(sorted_numbers)\n",
        "numbers.sort()\n",
        "print(numbers)\n",
        "\n"
      ]
    },
    {
      "cell_type": "code",
      "source": [
        "pangram = \"The quick brown fox jumps pver the lazy dog\"\n",
        "numbers = [2.3, 4.5, 8.7, 3.1, 9.2, 1.6]\n",
        "numbers_sorted = sorted(numbers)\n",
        "print(numbers_sorted)\n",
        "missing_letter = sorted(pangram.casefold())\n",
        "print(missing_letter)"
      ],
      "metadata": {
        "colab": {
          "base_uri": "https://localhost:8080/"
        },
        "id": "FihTrJUPUkUR",
        "outputId": "ed3b9e60-4931-4f8e-b6b7-c28f41d3e47a"
      },
      "execution_count": 13,
      "outputs": [
        {
          "output_type": "stream",
          "name": "stdout",
          "text": [
            "[1.6, 2.3, 3.1, 4.5, 8.7, 9.2]\n",
            "[' ', ' ', ' ', ' ', ' ', ' ', ' ', ' ', 'a', 'b', 'c', 'd', 'e', 'e', 'e', 'f', 'g', 'h', 'h', 'i', 'j', 'k', 'l', 'm', 'n', 'o', 'o', 'o', 'p', 'p', 'q', 'r', 'r', 's', 't', 't', 'u', 'u', 'v', 'w', 'x', 'y', 'z']\n"
          ]
        }
      ]
    },
    {
      "cell_type": "code",
      "execution_count": 17,
      "metadata": {
        "colab": {
          "base_uri": "https://localhost:8080/"
        },
        "outputId": "5d00fd21-3b12-47c2-802d-9458063d8eda",
        "id": "fhp1-Cbk1JLi"
      },
      "outputs": [
        {
          "output_type": "stream",
          "name": "stdout",
          "text": [
            "[' ', ' ', ' ', ' ', ' ', ' ', ' ', ' ', 'a', 'b', 'c', 'd', 'e', 'e', 'e', 'f', 'g', 'h', 'h', 'i', 'j', 'k', 'l', 'm', 'n', 'o', 'o', 'o', 'p', 'p', 'q', 'r', 'r', 's', 'T', 't', 'u', 'u', 'v', 'w', 'x', 'y', 'z']\n"
          ]
        }
      ],
      "source": [
        "pangram = \"The quick brown fox jumps pver the lazy dog\"\n",
        "missing_letter = sorted(\"The quick brown fox jumps pver the lazy dog\", key = str.casefold)\n",
        "print(missing_letter)\n"
      ]
    },
    {
      "cell_type": "code",
      "source": [
        "names = [\"Graham\",\n",
        "         \"John\",\n",
        "         \"terry\",\n",
        "         \"eric\",\n",
        "         \"Terry\",\n",
        "         \"michael\"\n",
        "         ]\n",
        "names.sort()\n",
        "print(names)\n",
        "names.sort( key = str.casefold)\n",
        "print(names)\n"
      ],
      "metadata": {
        "colab": {
          "base_uri": "https://localhost:8080/"
        },
        "id": "MPorSHlS1Q0Z",
        "outputId": "90740dcb-c58c-46a2-d657-bca1ae517992"
      },
      "execution_count": 22,
      "outputs": [
        {
          "output_type": "stream",
          "name": "stdout",
          "text": [
            "['Graham', 'John', 'Terry', 'eric', 'michael', 'terry']\n",
            "['eric', 'Graham', 'John', 'michael', 'Terry', 'terry']\n"
          ]
        }
      ]
    },
    {
      "cell_type": "code",
      "source": [
        ""
      ],
      "metadata": {
        "id": "r9mbyn_oE8nc"
      },
      "execution_count": null,
      "outputs": []
    }
  ]
}