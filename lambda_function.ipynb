{
  "nbformat": 4,
  "nbformat_minor": 0,
  "metadata": {
    "colab": {
      "provenance": [],
      "authorship_tag": "ABX9TyMvBertsq0pin5R6z2xU8hu",
      "include_colab_link": true
    },
    "kernelspec": {
      "name": "python3",
      "display_name": "Python 3"
    },
    "language_info": {
      "name": "python"
    }
  },
  "cells": [
    {
      "cell_type": "markdown",
      "metadata": {
        "id": "view-in-github",
        "colab_type": "text"
      },
      "source": [
        "<a href=\"https://colab.research.google.com/github/Sanjayme049/Python/blob/main/lambda_function.ipynb\" target=\"_parent\"><img src=\"https://colab.research.google.com/assets/colab-badge.svg\" alt=\"Open In Colab\"/></a>"
      ]
    },
    {
      "cell_type": "code",
      "execution_count": 3,
      "metadata": {
        "colab": {
          "base_uri": "https://localhost:8080/"
        },
        "id": "tmfHo3debwc9",
        "outputId": "ddc571a3-b129-4502-e987-674a6b0dc515"
      },
      "outputs": [
        {
          "output_type": "stream",
          "name": "stdout",
          "text": [
            "Enter the value of a: 1\n",
            "Enter the value of b: 2\n",
            "Sum= 3\n"
          ]
        }
      ],
      "source": [
        "# It is also called Anonymous function\n",
        "# do not defined by \"def\" keyword\n",
        "# return expression but not value\n",
        "# one-line function\n",
        "# any number of arguments\n",
        "# cannot access global variable \n",
        "# this functions will be defined by using \"lambda\" keyword\n",
        "# functions doesn't have any name\n",
        "sum =(lambda x,y:x+y)\n",
        "x=int(input(\"Enter the value of a: \"))\n",
        "y=int(input(\"Enter the value of b: \"))\n",
        "print(\"Sum=\",sum(x,y)) "
      ]
    },
    {
      "cell_type": "code",
      "source": [],
      "metadata": {
        "id": "P87d1AM2fmvk"
      },
      "execution_count": null,
      "outputs": []
    }
  ]
}