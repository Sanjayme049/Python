{
  "nbformat": 4,
  "nbformat_minor": 0,
  "metadata": {
    "colab": {
      "name": "GessingGame.ipynb",
      "provenance": [],
      "authorship_tag": "ABX9TyNbDhm43YDlp3DL/oyFY2XP",
      "include_colab_link": true
    },
    "kernelspec": {
      "name": "python3",
      "display_name": "Python 3"
    },
    "language_info": {
      "name": "python"
    }
  },
  "cells": [
    {
      "cell_type": "markdown",
      "metadata": {
        "id": "view-in-github",
        "colab_type": "text"
      },
      "source": [
        "<a href=\"https://colab.research.google.com/github/Sanjayme049/Python/blob/main/GessingGame.ipynb\" target=\"_parent\"><img src=\"https://colab.research.google.com/assets/colab-badge.svg\" alt=\"Open In Colab\"/></a>"
      ]
    },
    {
      "cell_type": "code",
      "execution_count": 14,
      "metadata": {
        "colab": {
          "base_uri": "https://localhost:8080/"
        },
        "id": "SdOl6p26HV9K",
        "outputId": "1c043a6e-e834-44c3-814a-ec595f3aa19d"
      },
      "outputs": [
        {
          "output_type": "stream",
          "name": "stdout",
          "text": [
            "219\n",
            "Please guess the number between 1 and 1000:\n",
            ": 100\n",
            "Please guess the higher\n",
            ": 200\n",
            "Please guess the higher\n",
            ": 250\n",
            "Please guess the lower\n",
            ": 221\n",
            "Please guess the lower\n",
            ": 219\n",
            "Well, you guessed it correctly\n"
          ]
        }
      ],
      "source": [
        "import random\n",
        "\n",
        "def get_integer(prompt):\n",
        "  while True:\n",
        "    temp = input(prompt)\n",
        "    if temp.isnumeric():\n",
        "      return int(temp)\n",
        "    else:\n",
        "      print(\"{0} is not a valid number\".format(temp))\n",
        "\n",
        "highest = 1000\n",
        "answer = random.randint(1, highest)\n",
        "print(answer)\n",
        "guess = 0 # initialise to any number that doesn't equal the answer\n",
        "print(\"Please guess the number between 1 and {}:\".format(highest))\n",
        "\n",
        "while guess != answer:\n",
        "  guess = get_integer(\": \")\n",
        "\n",
        "  if guess == 0:\n",
        "    break\n",
        "  if guess == answer:\n",
        "    print(\"Well, you guessed it correctly\")\n",
        "    break\n",
        "\n",
        "  else:\n",
        "    if guess < answer:\n",
        "      print(\"Please guess the higher\")\n",
        "    else:\n",
        "      print(\"Please guess the lower\")\n"
      ]
    },
    {
      "cell_type": "code",
      "source": [
        ""
      ],
      "metadata": {
        "id": "K5c6gQpkHsIv"
      },
      "execution_count": null,
      "outputs": []
    }
  ]
}