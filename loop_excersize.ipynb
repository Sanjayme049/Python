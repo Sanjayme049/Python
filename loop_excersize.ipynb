{
  "nbformat": 4,
  "nbformat_minor": 0,
  "metadata": {
    "colab": {
      "provenance": [],
      "authorship_tag": "ABX9TyNAV/zJrpqHqDQmxbOR3zK8",
      "include_colab_link": true
    },
    "kernelspec": {
      "name": "python3",
      "display_name": "Python 3"
    },
    "language_info": {
      "name": "python"
    }
  },
  "cells": [
    {
      "cell_type": "markdown",
      "metadata": {
        "id": "view-in-github",
        "colab_type": "text"
      },
      "source": [
        "<a href=\"https://colab.research.google.com/github/Sanjayme049/Python/blob/main/loop_excersize.ipynb\" target=\"_parent\"><img src=\"https://colab.research.google.com/assets/colab-badge.svg\" alt=\"Open In Colab\"/></a>"
      ]
    },
    {
      "cell_type": "code",
      "execution_count": 1,
      "metadata": {
        "id": "g8sQPznkprTr"
      },
      "outputs": [],
      "source": [
        "x=[1,2,3,4,5]\n"
      ]
    },
    {
      "cell_type": "code",
      "source": [
        "out=[]\n",
        "\n",
        "for num in x:\n",
        "  out.append(num**2)\n",
        "\n",
        "print(out)"
      ],
      "metadata": {
        "colab": {
          "base_uri": "https://localhost:8080/"
        },
        "id": "ohmpo1QRqDDv",
        "outputId": "0976c881-7eb8-4ea5-eca1-c12ca50c0ca6"
      },
      "execution_count": 2,
      "outputs": [
        {
          "output_type": "stream",
          "name": "stdout",
          "text": [
            "[1, 4, 9, 16, 25]\n"
          ]
        }
      ]
    },
    {
      "cell_type": "code",
      "source": [
        "y= [2,4,6,8]\n",
        "\n",
        "put=[]"
      ],
      "metadata": {
        "id": "_Ua5OtEKqciO"
      },
      "execution_count": 9,
      "outputs": []
    },
    {
      "cell_type": "code",
      "source": [
        "put=[]\n",
        "for num in y:\n",
        "  put.append(num//2)\n",
        "\n",
        "print(put)\n"
      ],
      "metadata": {
        "colab": {
          "base_uri": "https://localhost:8080/"
        },
        "id": "As_h8CQ9qkdI",
        "outputId": "07d02d32-a688-46e0-c753-4332f7cb8aaa"
      },
      "execution_count": 18,
      "outputs": [
        {
          "output_type": "stream",
          "name": "stdout",
          "text": [
            "[1, 2, 3, 4]\n"
          ]
        }
      ]
    },
    {
      "cell_type": "code",
      "source": [],
      "metadata": {
        "id": "_Z2fLm-arLJ8"
      },
      "execution_count": null,
      "outputs": []
    }
  ]
}