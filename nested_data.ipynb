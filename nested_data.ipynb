{
  "nbformat": 4,
  "nbformat_minor": 0,
  "metadata": {
    "colab": {
      "name": "nested_data.ipynb",
      "provenance": [],
      "authorship_tag": "ABX9TyOcdm5dM+DbsORoIzxgic3r",
      "include_colab_link": true
    },
    "kernelspec": {
      "name": "python3",
      "display_name": "Python 3"
    },
    "language_info": {
      "name": "python"
    }
  },
  "cells": [
    {
      "cell_type": "markdown",
      "metadata": {
        "id": "view-in-github",
        "colab_type": "text"
      },
      "source": [
        "<a href=\"https://colab.research.google.com/github/Sanjayme049/Python/blob/main/nested_data.ipynb\" target=\"_parent\"><img src=\"https://colab.research.google.com/assets/colab-badge.svg\" alt=\"Open In Colab\"/></a>"
      ]
    },
    {
      "cell_type": "code",
      "execution_count": 5,
      "metadata": {
        "id": "XDXi6PvmrAUS",
        "colab": {
          "base_uri": "https://localhost:8080/"
        },
        "outputId": "50ddb2e8-a3c6-4955-c19f-d1763da6017e"
      },
      "outputs": [
        {
          "output_type": "stream",
          "name": "stdout",
          "text": [
            "Please choose your album(invalid choice exits):\n",
            "0 ('Welcome to my Nightmare', 'Alice Cooper', 1975, [(1, 'Welcome to my Nightmare'), (2, \"Devil's Food\"), (3, 'The Black Widow'), (4, 'Some Folks'), (5, 'Only Women Bleed')])\n",
            "1 ('Bad Company', 'Bad Company', 1974, [(1, \"Can't Get Enough\"), (2, 'Rock Steady'), (3, 'Ready for Love'), (4, \"Don't Let Me Down\"), (5, 'Bad Company'), (6, 'The Way I Choose'), (7, \"Movin' On\"), (8, 'Seagull')])\n",
            "2 ('Nightflight', 'Budgie', 1981, [(1, 'I Turned to Stone'), (2, 'Keeping a Rendezvous'), (3, 'Reaper of the Glory'), (4, 'She Used Me Up')])\n",
            "3 ('More Mayhem', 'Imelda May', 2011, [(1, 'Pulling the Rug'), (2, 'Psycho'), (3, 'Mayhem'), (4, 'Kentish Town Waltz')])\n"
          ]
        }
      ],
      "source": [
        "\n",
        "\n",
        "albums = [\n",
        "    (\"Welcome to my Nightmare\", \"Alice Cooper\", 1975,\n",
        "     [\n",
        "         (1, \"Welcome to my Nightmare\"),\n",
        "         (2, \"Devil's Food\"),\n",
        "         (3, \"The Black Widow\"),\n",
        "         (4, \"Some Folks\"),\n",
        "         (5, \"Only Women Bleed\"),\n",
        "     ]\n",
        "     ),\n",
        "    (\"Bad Company\", \"Bad Company\", 1974,\n",
        "     [\n",
        "         (1, \"Can't Get Enough\"),\n",
        "         (2, \"Rock Steady\"),\n",
        "         (3, \"Ready for Love\"),\n",
        "         (4, \"Don't Let Me Down\"),\n",
        "         (5, \"Bad Company\"),\n",
        "         (6, \"The Way I Choose\"),\n",
        "         (7, \"Movin' On\"),\n",
        "         (8, \"Seagull\"),\n",
        "     ]\n",
        "     ),\n",
        "    (\"Nightflight\", \"Budgie\", 1981,\n",
        "     [\n",
        "         (1, \"I Turned to Stone\"),\n",
        "         (2, \"Keeping a Rendezvous\"),\n",
        "         (3, \"Reaper of the Glory\"),\n",
        "         (4, \"She Used Me Up\"),\n",
        "     ]\n",
        "     ),\n",
        "    (\"More Mayhem\", \"Imelda May\", 2011,\n",
        "     [\n",
        "         (1, \"Pulling the Rug\"),\n",
        "         (2, \"Psycho\"),\n",
        "         (3, \"Mayhem\"),\n",
        "         (4, \"Kentish Town Waltz\"),\n",
        "     ]\n",
        "     ),\n",
        "]\n",
        "\n",
        "while True:\n",
        "  print(\"Please choose your album(invalid choice exits):\")\n",
        "  for index, value in enumerate(albums):\n",
        "    print(index, value)\n",
        "  break"
      ]
    },
    {
      "cell_type": "code",
      "source": [
        ""
      ],
      "metadata": {
        "id": "efd8FDwVLCXa"
      },
      "execution_count": 2,
      "outputs": []
    }
  ]
}