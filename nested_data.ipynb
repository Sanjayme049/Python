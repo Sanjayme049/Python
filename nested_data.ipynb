{
  "nbformat": 4,
  "nbformat_minor": 0,
  "metadata": {
    "colab": {
      "name": "nested_data.ipynb",
      "provenance": [],
      "authorship_tag": "ABX9TyNJo5ee9ao+gVaayOHEtmGZ",
      "include_colab_link": true
    },
    "kernelspec": {
      "name": "python3",
      "display_name": "Python 3"
    },
    "language_info": {
      "name": "python"
    }
  },
  "cells": [
    {
      "cell_type": "markdown",
      "metadata": {
        "id": "view-in-github",
        "colab_type": "text"
      },
      "source": [
        "<a href=\"https://colab.research.google.com/github/Sanjayme049/Python/blob/main/nested_data.ipynb\" target=\"_parent\"><img src=\"https://colab.research.google.com/assets/colab-badge.svg\" alt=\"Open In Colab\"/></a>"
      ]
    },
    {
      "cell_type": "code",
      "execution_count": null,
      "metadata": {
        "id": "XDXi6PvmrAUS"
      },
      "outputs": [],
      "source": [
        "albums = [\n",
        "    (\"Welcome to my Nightmare\", \"Alice Cooper\", 1975,\n",
        "     [\n",
        "         (1, \"Welcome to my Nightmare\"),\n",
        "         (2, \"Devil's Food\"),\n",
        "         (3, \"The Black Widow\"),\n",
        "         (4, \"Some Folks\"),\n",
        "         (5, \"Only Women Bleed\"),\n",
        "     ]\n",
        "     ),\n",
        "    (\"Bad Company\", \"Bad Company\", 1974,\n",
        "     [\n",
        "         (1, \"Can't Get Enough\"),\n",
        "         (2, \"Rock Steady\"),\n",
        "         (3, \"Ready for Love\"),\n",
        "         (4, \"Don't Let Me Down\"),\n",
        "         (5, \"Bad Company\"),\n",
        "         (6, \"The Way I Choose\"),\n",
        "         (7, \"Movin' On\"),\n",
        "         (8, \"Seagull\"),\n",
        "     ]\n",
        "     ),\n",
        "    (\"Nightflight\", \"Budgie\", 1981,\n",
        "     [\n",
        "         (1, \"I Turned to Stone\"),\n",
        "         (2, \"Keeping a Rendezvous\"),\n",
        "         (3, \"Reaper of the Glory\"),\n",
        "         (4, \"She Used Me Up\"),\n",
        "     ]\n",
        "     ),\n",
        "    (\"More Mayhem\", \"Imelda May\", 2011,\n",
        "     [\n",
        "         (1, \"Pulling the Rug\"),\n",
        "         (2, \"Psycho\"),\n",
        "         (3, \"Mayhem\"),\n",
        "         (4, \"Kentish Town Waltz\"),\n",
        "     ]\n",
        "     ),\n",
        "]"
      ]
    }
  ]
}