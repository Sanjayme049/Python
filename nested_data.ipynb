{
  "nbformat": 4,
  "nbformat_minor": 0,
  "metadata": {
    "colab": {
      "name": "nested_data.ipynb",
      "provenance": [],
      "authorship_tag": "ABX9TyOkVPpUDxSYlms2HnQ9wkno",
      "include_colab_link": true
    },
    "kernelspec": {
      "name": "python3",
      "display_name": "Python 3"
    },
    "language_info": {
      "name": "python"
    }
  },
  "cells": [
    {
      "cell_type": "markdown",
      "metadata": {
        "id": "view-in-github",
        "colab_type": "text"
      },
      "source": [
        "<a href=\"https://colab.research.google.com/github/Sanjayme049/Python/blob/main/nested_data.ipynb\" target=\"_parent\"><img src=\"https://colab.research.google.com/assets/colab-badge.svg\" alt=\"Open In Colab\"/></a>"
      ]
    },
    {
      "cell_type": "code",
      "execution_count": 15,
      "metadata": {
        "id": "XDXi6PvmrAUS",
        "colab": {
          "base_uri": "https://localhost:8080/"
        },
        "outputId": "7e65c777-4c98-407b-87c9-03ad9c24f091"
      },
      "outputs": [
        {
          "name": "stdout",
          "output_type": "stream",
          "text": [
            "Please choose your album(invalid choice exits):\n",
            "1: Welcome to my Nightmare\n",
            "2: Bad Company\n",
            "3: Nightflight\n",
            "4: More Mayhem\n",
            "1\n",
            "('Welcome to my Nightmare', 'Alice Cooper', 1975, [(1, 'Welcome to my Nightmare'), (2, \"Devil's Food\"), (3, 'The Black Widow'), (4, 'Some Folks'), (5, 'Only Women Bleed')])\n",
            "[(1, 'Welcome to my Nightmare'), (2, \"Devil's Food\"), (3, 'The Black Widow'), (4, 'Some Folks'), (5, 'Only Women Bleed')]\n",
            "\n",
            "Please choose your album(invalid choice exits):\n",
            "1: Welcome to my Nightmare\n",
            "2: Bad Company\n",
            "3: Nightflight\n",
            "4: More Mayhem\n",
            "4\n",
            "('More Mayhem', 'Imelda May', 2011, [(1, 'Pulling the Rug'), (2, 'Psycho'), (3, 'Mayhem'), (4, 'Kentish Town Waltz')])\n",
            "[(1, 'Pulling the Rug'), (2, 'Psycho'), (3, 'Mayhem'), (4, 'Kentish Town Waltz')]\n",
            "\n",
            "Please choose your album(invalid choice exits):\n",
            "1: Welcome to my Nightmare\n",
            "2: Bad Company\n",
            "3: Nightflight\n",
            "4: More Mayhem\n",
            "5\n"
          ]
        }
      ],
      "source": [
        "\n",
        "\n",
        "albums = [\n",
        "    (\"Welcome to my Nightmare\", \"Alice Cooper\", 1975,\n",
        "     [\n",
        "         (1, \"Welcome to my Nightmare\"),\n",
        "         (2, \"Devil's Food\"),\n",
        "         (3, \"The Black Widow\"),\n",
        "         (4, \"Some Folks\"),\n",
        "         (5, \"Only Women Bleed\"),\n",
        "     ]\n",
        "     ),\n",
        "    (\"Bad Company\", \"Bad Company\", 1974,\n",
        "     [\n",
        "         (1, \"Can't Get Enough\"),\n",
        "         (2, \"Rock Steady\"),\n",
        "         (3, \"Ready for Love\"),\n",
        "         (4, \"Don't Let Me Down\"),\n",
        "         (5, \"Bad Company\"),\n",
        "         (6, \"The Way I Choose\"),\n",
        "         (7, \"Movin' On\"),\n",
        "         (8, \"Seagull\"),\n",
        "     ]\n",
        "     ),\n",
        "    (\"Nightflight\", \"Budgie\", 1981,\n",
        "     [\n",
        "         (1, \"I Turned to Stone\"),\n",
        "         (2, \"Keeping a Rendezvous\"),\n",
        "         (3, \"Reaper of the Glory\"),\n",
        "         (4, \"She Used Me Up\"),\n",
        "     ]\n",
        "     ),\n",
        "    (\"More Mayhem\", \"Imelda May\", 2011,\n",
        "     [\n",
        "         (1, \"Pulling the Rug\"),\n",
        "         (2, \"Psycho\"),\n",
        "         (3, \"Mayhem\"),\n",
        "         (4, \"Kentish Town Waltz\"),\n",
        "     ]\n",
        "     ),\n",
        "]\n",
        "SONGS_LIST_INDEX = 3\n",
        "while True:\n",
        "  print(\"Please choose your album(invalid choice exits):\")\n",
        "  for index, (title, artist, year, songs) in enumerate(albums):\n",
        "       print(\"{}: {}\". format(index + 1, title))\n",
        "  choice = int(input())\n",
        "  if 1 <= choice <= len(albums):\n",
        "        songs_list = albums[choice-1][SONGS_LIST_INDEX]\n",
        "  else:\n",
        "      break\n",
        "  print(albums[choice - 1])\n",
        "  print(songs_list)\n",
        "  print()\n",
        "\n",
        "# while True:\n",
        "#   print(\"Please choose your album(invalid choice exits):\")\n",
        "#   for index, value in enumerate(albums):\n",
        "#     print(index, value)\n",
        "#   break"
      ]
    },
    {
      "cell_type": "code",
      "source": [
        "\n"
      ],
      "metadata": {
        "id": "efd8FDwVLCXa"
      },
      "execution_count": 2,
      "outputs": []
    }
  ]
}