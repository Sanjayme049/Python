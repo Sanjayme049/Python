{
  "cells": [
    {
      "cell_type": "markdown",
      "metadata": {
        "colab_type": "text",
        "id": "view-in-github"
      },
      "source": [
        "<a href=\"https://colab.research.google.com/github/Sanjayme049/Python/blob/main/Creating_list.ipynb\" target=\"_parent\"><img src=\"https://colab.research.google.com/assets/colab-badge.svg\" alt=\"Open In Colab\"/></a>"
      ]
    },
    {
      "cell_type": "code",
      "execution_count": 9,
      "metadata": {
        "colab": {
          "base_uri": "https://localhost:8080/"
        },
        "id": "l53YFLxtOlir",
        "outputId": "8fbdd4fa-6bd8-4e18-c57d-48be6be2f199"
      },
      "outputs": [
        {
          "name": "stdout",
          "output_type": "stream",
          "text": [
            "[2, 4, 6, 8, 1, 3, 5, 7, 9]\n",
            "[1, 2, 3, 4, 5, 6, 7, 8, 9]\n",
            "[2, 4, 6, 8, 1, 3, 5, 7, 9]\n",
            "['1', '2', '3', '4', '5', '6', '7', '8', '9']\n",
            "[2, 4, 6, 8, 1, 3, 5, 7, 9]\n"
          ]
        }
      ],
      "source": [
        "empty = []\n",
        "odd = [1, 3, 5, 7, 9]\n",
        "even = [2, 4, 6, 8]\n",
        "\n",
        "numbers = even + odd\n",
        "print(numbers)\n",
        "# print(numbers.sort())\n",
        "sorted_numbers = sorted(numbers)\n",
        "print(sorted_numbers)\n",
        "print(numbers)\n",
        "\n",
        "digits = sorted(\"432985617\")\n",
        "print(digits)\n",
        "\n",
        "more_numbers = list(numbers)\n",
        "print(more_numbers)\n",
        "\n",
        "print('Pushing this code to git hub')"
      ]
    },
    {
      "cell_type": "code",
      "execution_count": 2,
      "metadata": {
        "colab": {
          "base_uri": "https://localhost:8080/"
        },
        "id": "5OAIeiC3Oryq",
        "outputId": "3d18ed30-4ba2-4e33-a4bd-c1718e6bd188"
      },
      "outputs": [
        {
          "name": "stdout",
          "output_type": "stream",
          "text": [
            "[1, 2, 3, 4, 5, 6, 7, 8, 9]\n"
          ]
        }
      ],
      "source": []
    },
    {
      "cell_type": "code",
      "execution_count": null,
      "metadata": {
        "id": "K2awNzSgute0"
      },
      "outputs": [],
      "source": []
    }
  ],
  "metadata": {
    "colab": {
      "authorship_tag": "ABX9TyNRxMRMF/1me/4GLdNfP3DY",
      "include_colab_link": true,
      "name": "Creating_list.ipynb",
      "provenance": []
    },
    "kernelspec": {
      "display_name": "Python 3",
      "name": "python3"
    },
    "language_info": {
      "name": "python"
    }
  },
  "nbformat": 4,
  "nbformat_minor": 0
}
