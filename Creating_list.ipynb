{
  "nbformat": 4,
  "nbformat_minor": 0,
  "metadata": {
    "colab": {
      "name": "Creating_list.ipynb",
      "provenance": [],
      "authorship_tag": "ABX9TyNRxMRMF/1me/4GLdNfP3DY",
      "include_colab_link": true
    },
    "kernelspec": {
      "name": "python3",
      "display_name": "Python 3"
    },
    "language_info": {
      "name": "python"
    }
  },
  "cells": [
    {
      "cell_type": "markdown",
      "metadata": {
        "id": "view-in-github",
        "colab_type": "text"
      },
      "source": [
        "<a href=\"https://colab.research.google.com/github/Sanjayme049/Python/blob/main/Creating_list.ipynb\" target=\"_parent\"><img src=\"https://colab.research.google.com/assets/colab-badge.svg\" alt=\"Open In Colab\"/></a>"
      ]
    },
    {
      "cell_type": "code",
      "execution_count": 9,
      "metadata": {
        "colab": {
          "base_uri": "https://localhost:8080/"
        },
        "id": "l53YFLxtOlir",
        "outputId": "8fbdd4fa-6bd8-4e18-c57d-48be6be2f199"
      },
      "outputs": [
        {
          "output_type": "stream",
          "name": "stdout",
          "text": [
            "[2, 4, 6, 8, 1, 3, 5, 7, 9]\n",
            "[1, 2, 3, 4, 5, 6, 7, 8, 9]\n",
            "[2, 4, 6, 8, 1, 3, 5, 7, 9]\n",
            "['1', '2', '3', '4', '5', '6', '7', '8', '9']\n",
            "[2, 4, 6, 8, 1, 3, 5, 7, 9]\n"
          ]
        }
      ],
      "source": [
        "empty = []\n",
        "odd = [1, 3, 5, 7, 9]\n",
        "even = [2, 4, 6, 8]\n",
        "\n",
        "numbers = even + odd\n",
        "print(numbers)\n",
        "# print(numbers.sort())\n",
        "sorted_numbers = sorted(numbers)\n",
        "print(sorted_numbers)\n",
        "print(numbers)\n",
        "\n",
        "digits = sorted(\"432985617\")\n",
        "print(digits)\n",
        "\n",
        "more_numbers = list(numbers)\n",
        "print(more_numbers)\n"
      ]
    },
    {
      "cell_type": "code",
      "source": [
        ""
      ],
      "metadata": {
        "id": "5OAIeiC3Oryq",
        "colab": {
          "base_uri": "https://localhost:8080/"
        },
        "outputId": "3d18ed30-4ba2-4e33-a4bd-c1718e6bd188"
      },
      "execution_count": 2,
      "outputs": [
        {
          "output_type": "stream",
          "name": "stdout",
          "text": [
            "[1, 2, 3, 4, 5, 6, 7, 8, 9]\n"
          ]
        }
      ]
    },
    {
      "cell_type": "code",
      "source": [
        ""
      ],
      "metadata": {
        "id": "K2awNzSgute0"
      },
      "execution_count": null,
      "outputs": []
    }
  ]
}