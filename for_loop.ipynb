{
  "nbformat": 4,
  "nbformat_minor": 0,
  "metadata": {
    "colab": {
      "provenance": [],
      "authorship_tag": "ABX9TyNe4m420TKwsh+ddJaxn0eI",
      "include_colab_link": true
    },
    "kernelspec": {
      "name": "python3",
      "display_name": "Python 3"
    },
    "language_info": {
      "name": "python"
    }
  },
  "cells": [
    {
      "cell_type": "markdown",
      "metadata": {
        "id": "view-in-github",
        "colab_type": "text"
      },
      "source": [
        "<a href=\"https://colab.research.google.com/github/Sanjayme049/Python/blob/main/for_loop.ipynb\" target=\"_parent\"><img src=\"https://colab.research.google.com/assets/colab-badge.svg\" alt=\"Open In Colab\"/></a>"
      ]
    },
    {
      "cell_type": "code",
      "execution_count": 1,
      "metadata": {
        "colab": {
          "base_uri": "https://localhost:8080/"
        },
        "id": "9A4v-zdZ5D-g",
        "outputId": "1499585d-c6ec-4b77-8349-10d890de75fa"
      },
      "outputs": [
        {
          "output_type": "stream",
          "name": "stdout",
          "text": [
            "Number:4\n",
            "24\n"
          ]
        }
      ],
      "source": [
        "num = int(input(\"Number:\"))\n",
        "factorial = 1\n",
        "\n",
        "if num<0:\n",
        "  print(\"num must be positive\")\n",
        "elif num == 0:\n",
        "  print(\"factorial = 1\")\n",
        "else:\n",
        "  for i in range(1, num+1):\n",
        "    factorial = factorial*i\n",
        "print(factorial)"
      ]
    },
    {
      "cell_type": "code",
      "source": [
        "from math import sqrt\n",
        "n = int(input(\"Maximal Number?.\"))\n",
        "for a in range(1, n+1):\n",
        "  for b in range(a, n):\n",
        "    c_square = a**2 + b**2\n",
        "    c = int(sqrt(c_square))\n",
        "    if ((c_square - c**2)== 0):\n",
        "      print(a, b, c)"
      ],
      "metadata": {
        "colab": {
          "base_uri": "https://localhost:8080/"
        },
        "id": "sT94g3C25_Hk",
        "outputId": "44542568-db44-4bd7-e0f9-d7f5b1b86de8"
      },
      "execution_count": 4,
      "outputs": [
        {
          "output_type": "stream",
          "name": "stdout",
          "text": [
            "Maximal Number?.5\n",
            "3 4 5\n"
          ]
        }
      ]
    },
    {
      "cell_type": "code",
      "source": [],
      "metadata": {
        "id": "zj4DFXQbA2G6"
      },
      "execution_count": null,
      "outputs": []
    }
  ]
}