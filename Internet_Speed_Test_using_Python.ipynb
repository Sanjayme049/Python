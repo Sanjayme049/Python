{
  "nbformat": 4,
  "nbformat_minor": 0,
  "metadata": {
    "colab": {
      "provenance": [],
      "authorship_tag": "ABX9TyMLUvfTFF7yt7hDTzKMJKee",
      "include_colab_link": true
    },
    "kernelspec": {
      "name": "python3",
      "display_name": "Python 3"
    },
    "language_info": {
      "name": "python"
    }
  },
  "cells": [
    {
      "cell_type": "markdown",
      "metadata": {
        "id": "view-in-github",
        "colab_type": "text"
      },
      "source": [
        "<a href=\"https://colab.research.google.com/github/Sanjayme049/Python/blob/main/Internet_Speed_Test_using_Python.ipynb\" target=\"_parent\"><img src=\"https://colab.research.google.com/assets/colab-badge.svg\" alt=\"Open In Colab\"/></a>"
      ]
    },
    {
      "cell_type": "code",
      "execution_count": 1,
      "metadata": {
        "colab": {
          "base_uri": "https://localhost:8080/"
        },
        "id": "z33AXBvluefq",
        "outputId": "3009222d-ad12-488e-9e0a-e31758159acf"
      },
      "outputs": [
        {
          "output_type": "stream",
          "name": "stdout",
          "text": [
            "Looking in indexes: https://pypi.org/simple, https://us-python.pkg.dev/colab-wheels/public/simple/\n",
            "Collecting speedtest-cli\n",
            "  Downloading speedtest_cli-2.1.3-py2.py3-none-any.whl (23 kB)\n",
            "Installing collected packages: speedtest-cli\n",
            "Successfully installed speedtest-cli-2.1.3\n"
          ]
        }
      ],
      "source": [
        "pip install speedtest-cli\n"
      ]
    },
    {
      "cell_type": "code",
      "source": [
        "import speedtest\n",
        "wifi  = speedtest.Speedtest()\n",
        "print(\"Wifi Download Speed is \", wifi.download())\n",
        "print(\"Wifi Upload Speed is \", wifi.upload())"
      ],
      "metadata": {
        "colab": {
          "base_uri": "https://localhost:8080/"
        },
        "id": "bYJm_DykusU5",
        "outputId": "b1183e25-f080-4458-ecf1-815a6b5ee632"
      },
      "execution_count": 2,
      "outputs": [
        {
          "output_type": "stream",
          "name": "stdout",
          "text": [
            "Wifi Download Speed is  1823022513.294078\n",
            "Wifi Upload Speed is  811150541.8311473\n"
          ]
        }
      ]
    }
  ]
}