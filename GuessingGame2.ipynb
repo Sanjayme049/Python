{
  "nbformat": 4,
  "nbformat_minor": 0,
  "metadata": {
    "colab": {
      "name": "GuessingGame2.ipynb",
      "provenance": [],
      "authorship_tag": "ABX9TyPNT+caJ3AbrACpl9eOFE3E",
      "include_colab_link": true
    },
    "kernelspec": {
      "name": "python3",
      "display_name": "Python 3"
    },
    "language_info": {
      "name": "python"
    }
  },
  "cells": [
    {
      "cell_type": "markdown",
      "metadata": {
        "id": "view-in-github",
        "colab_type": "text"
      },
      "source": [
        "<a href=\"https://colab.research.google.com/github/Sanjayme049/Python/blob/main/GuessingGame2.ipynb\" target=\"_parent\"><img src=\"https://colab.research.google.com/assets/colab-badge.svg\" alt=\"Open In Colab\"/></a>"
      ]
    },
    {
      "cell_type": "code",
      "execution_count": 1,
      "metadata": {
        "colab": {
          "base_uri": "https://localhost:8080/"
        },
        "id": "ycBS7vl6oD5N",
        "outputId": "c99723a0-dad0-4dfb-8d63-0342bdaef92a"
      },
      "outputs": [
        {
          "output_type": "stream",
          "name": "stdout",
          "text": [
            "706\n",
            "Please guess number between 1 and 1000: \n",
            ": 500\n",
            "Please guess higher\n",
            ": tim\n",
            "tim is not a valid number\n",
            ": tom\n",
            "tom is not a valid number\n",
            ": 1000\n",
            "Please guess lower\n",
            ": 706\n",
            "Well done, you guessed it\n"
          ]
        }
      ],
      "source": [
        "import random\n",
        "\n",
        "\n",
        "def get_integer(prompt):\n",
        "    while True:\n",
        "        temp = input(prompt)\n",
        "        if temp.isnumeric():\n",
        "            return int(temp)\n",
        "        # else:\n",
        "        print(\"{0} is not a valid number\".format(temp))\n",
        "\n",
        "\n",
        "highest = 1000\n",
        "answer = random.randint(1, highest)\n",
        "print(answer)   # TODO: Remove after testing\n",
        "guess = 0 # initialise to any number that doesn't equal the answer\n",
        "print(\"Please guess number between 1 and {}: \".format(highest))\n",
        "\n",
        "while guess != answer:\n",
        "    guess = get_integer(\": \")\n",
        "\n",
        "    if guess == 0:\n",
        "        break\n",
        "    if guess == answer:\n",
        "        print(\"Well done, you guessed it\")\n",
        "        break\n",
        "    else:\n",
        "        if guess < answer:\n",
        "            print(\"Please guess higher\")\n",
        "        else:   # guess must be greater than answer\n",
        "            print(\"Please guess lower\")\n",
        "        # guess = int(input())\n",
        "        # if guess == answer:\n",
        "        #     print(\"Well done, you guessed it\")\n",
        "        # else:\n",
        "        #     print(\"Sorry, you have not guessed correctly\")"
      ]
    },
    {
      "cell_type": "code",
      "source": [
        ""
      ],
      "metadata": {
        "id": "lYs43x2roFQ3"
      },
      "execution_count": null,
      "outputs": []
    }
  ]
}