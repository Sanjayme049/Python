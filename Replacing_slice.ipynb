{
  "nbformat": 4,
  "nbformat_minor": 0,
  "metadata": {
    "colab": {
      "name": "Replacing_slice.ipynb",
      "provenance": [],
      "authorship_tag": "ABX9TyP9gixgqGrcPNkz+LfFjxTJ",
      "include_colab_link": true
    },
    "kernelspec": {
      "name": "python3",
      "display_name": "Python 3"
    },
    "language_info": {
      "name": "python"
    }
  },
  "cells": [
    {
      "cell_type": "markdown",
      "metadata": {
        "id": "view-in-github",
        "colab_type": "text"
      },
      "source": [
        "<a href=\"https://colab.research.google.com/github/Sanjayme049/Python/blob/main/Replacing_slice.ipynb\" target=\"_parent\"><img src=\"https://colab.research.google.com/assets/colab-badge.svg\" alt=\"Open In Colab\"/></a>"
      ]
    },
    {
      "cell_type": "code",
      "execution_count": 10,
      "metadata": {
        "id": "PHL9yDllNcj2",
        "colab": {
          "base_uri": "https://localhost:8080/"
        },
        "outputId": "56e66778-c982-44ce-ab82-2b3994d6e873"
      },
      "outputs": [
        {
          "output_type": "stream",
          "name": "stdout",
          "text": [
            "['monitor', 'keyboard', 'mouse mat', 'hdmi cable']\n",
            "['monitor', 'keyboard', 'mouse mat', 't', 'r', 'a', 'c', 'k', 'b', 'a', 'l', 'l']\n",
            "['monitor', 'keyboard', 'mouse mat', 'trackball']\n"
          ]
        }
      ],
      "source": [
        "computer_parts = [\"monitor\",\n",
        "                  \"keyboard\",\n",
        "                  \"mouse mat\",\n",
        "                  \"hdmi cable\"\n",
        "                  ]\n",
        "\n",
        "print(computer_parts)\n",
        "# computer_parts[3] = \"head set\"\n",
        "# print(computer_parts)\n",
        "# print(computer_parts[1:])\n",
        "computer_parts[3:] = \"trackball\"\n",
        "print(computer_parts)\n",
        "computer_parts[3:] = [\"trackball\"]\n",
        "print(computer_parts)\n"
      ]
    },
    {
      "cell_type": "code",
      "source": [
        ""
      ],
      "metadata": {
        "id": "qoKxny-iQ_PU"
      },
      "execution_count": null,
      "outputs": []
    }
  ]
}