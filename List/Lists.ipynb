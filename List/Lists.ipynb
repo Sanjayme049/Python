{
  "nbformat": 4,
  "nbformat_minor": 0,
  "metadata": {
    "colab": {
      "name": "Lists.ipynb",
      "provenance": [],
      "authorship_tag": "ABX9TyNYhP/gPhf7c/Nx4XsVMLi7",
      "include_colab_link": true
    },
    "kernelspec": {
      "name": "python3",
      "display_name": "Python 3"
    },
    "language_info": {
      "name": "python"
    }
  },
  "cells": [
    {
      "cell_type": "markdown",
      "metadata": {
        "id": "view-in-github",
        "colab_type": "text"
      },
      "source": [
        "<a href=\"https://colab.research.google.com/github/Sanjayme049/Python/blob/main/List/Lists.ipynb\" target=\"_parent\"><img src=\"https://colab.research.google.com/assets/colab-badge.svg\" alt=\"Open In Colab\"/></a>"
      ]
    },
    {
      "cell_type": "code",
      "execution_count": null,
      "metadata": {
        "id": "cWV7tDWsP99s",
        "colab": {
          "base_uri": "https://localhost:8080/"
        },
        "outputId": "a1391131-a04c-46dc-848b-151af1ab1c56"
      },
      "outputs": [
        {
          "output_type": "stream",
          "name": "stdout",
          "text": [
            "1\n",
            "9\n",
            "2\n",
            "8\n",
            "5\n",
            "4\n"
          ]
        }
      ],
      "source": [
        "even = [2, 4, 6, 8]\n",
        "odd = [1, 3, 5, 7, 9]\n",
        "print(min(odd))\n",
        "print(max(odd))\n",
        "print(min(even))\n",
        "print(max(even))\n",
        "\n",
        "print(len(odd))\n",
        "\n",
        "print(len(even))      "
      ]
    },
    {
      "cell_type": "code",
      "source": [
        "print(\"mississipi\".count(\"s\"))"
      ],
      "metadata": {
        "colab": {
          "base_uri": "https://localhost:8080/"
        },
        "id": "dSGNxAyOvUDJ",
        "outputId": "22c08b55-6a4c-4a8a-9fb5-046609ddb6df"
      },
      "execution_count": null,
      "outputs": [
        {
          "output_type": "stream",
          "name": "stdout",
          "text": [
            "4\n"
          ]
        }
      ]
    },
    {
      "cell_type": "code",
      "source": [
        "print(\"mississipi\".count(\"ssi\"))"
      ],
      "metadata": {
        "colab": {
          "base_uri": "https://localhost:8080/"
        },
        "id": "K7OJwKztwe-7",
        "outputId": "faa417ee-76ed-4e8a-b733-b818f8c2148b"
      },
      "execution_count": null,
      "outputs": [
        {
          "output_type": "stream",
          "name": "stdout",
          "text": [
            "2\n"
          ]
        }
      ]
    },
    {
      "cell_type": "code",
      "source": [
        "current_choice = \"-\"\n",
        "computer_parts = [] # create an empty list\n",
        "\n",
        "while current_choice !=\"0\":\n",
        "  if current_choice in \"12345\":\n",
        "    print(\"Adding {}\".format(current_choice))\n",
        "  if current_choice == '1':\n",
        "    computer_parts.append(\"computer\")\n",
        "  elif current_choice == '2':\n",
        "    computer_parts.append(\"monitor\")\n",
        "  elif current_choice == '3':\n",
        "    computer_parts.append(\"keyboard\")\n",
        "  elif current_choice == '4':\n",
        "    computer_parts.append(\"mouse\")\n",
        "  elif current_choice == '5':\n",
        "    computer_parts.append(\"mouse mat\")\n",
        "\n",
        "\n",
        "\n",
        "  else:\n",
        "    print(\"Please add the options from the list below:\")\n",
        "    print(\"1: computer\")\n",
        "    print(\"2: monitor\")\n",
        "    print(\"3: keyboard\")\n",
        "    print(\"4: mouse\")\n",
        "    print(\"5: mouse mat\")\n",
        "    print(\"0: to finish\")\n",
        "  current_choice = input()\n",
        "\n",
        "print(computer_parts)\n",
        "  \n",
        "\n"
      ],
      "metadata": {
        "id": "64j9FOkGRl7r"
      },
      "execution_count": null,
      "outputs": []
    },
    {
      "cell_type": "code",
      "source": [
        ""
      ],
      "metadata": {
        "id": "RRVTk5ihbLxK"
      },
      "execution_count": null,
      "outputs": []
    }
  ]
}