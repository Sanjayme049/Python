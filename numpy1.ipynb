{
  "nbformat": 4,
  "nbformat_minor": 0,
  "metadata": {
    "colab": {
      "name": "numpy1.ipynb",
      "provenance": [],
      "authorship_tag": "ABX9TyMn2RTdwFsvdg5qi/sohqaw",
      "include_colab_link": true
    },
    "kernelspec": {
      "name": "python3",
      "display_name": "Python 3"
    },
    "language_info": {
      "name": "python"
    }
  },
  "cells": [
    {
      "cell_type": "markdown",
      "metadata": {
        "id": "view-in-github",
        "colab_type": "text"
      },
      "source": [
        "<a href=\"https://colab.research.google.com/github/Sanjayme049/Python/blob/main/numpy1.ipynb\" target=\"_parent\"><img src=\"https://colab.research.google.com/assets/colab-badge.svg\" alt=\"Open In Colab\"/></a>"
      ]
    },
    {
      "cell_type": "code",
      "execution_count": 3,
      "metadata": {
        "id": "xTEMFjxnhmAP"
      },
      "outputs": [],
      "source": [
        "import numpy as np\n",
        "np.__version__\n",
        "\n",
        "np.random.seed(42)\n",
        "x = np.random.randint(0, 20, (2, 2,3, 2))"
      ]
    },
    {
      "cell_type": "code",
      "source": [
        "print(x)"
      ],
      "metadata": {
        "colab": {
          "base_uri": "https://localhost:8080/"
        },
        "id": "_akOswGgj1f-",
        "outputId": "87cc5509-d82b-480e-a793-9084636e1ec9"
      },
      "execution_count": 4,
      "outputs": [
        {
          "output_type": "stream",
          "name": "stdout",
          "text": [
            "[[[[ 6 19]\n",
            "   [14 10]\n",
            "   [ 7  6]]\n",
            "\n",
            "  [[18 10]\n",
            "   [10  3]\n",
            "   [ 7  2]]]\n",
            "\n",
            "\n",
            " [[[ 1 11]\n",
            "   [ 5  1]\n",
            "   [ 0 11]]\n",
            "\n",
            "  [[11 16]\n",
            "   [ 9 15]\n",
            "   [14 14]]]]\n"
          ]
        }
      ]
    },
    {
      "cell_type": "code",
      "source": [
        "x[1][0]"
      ],
      "metadata": {
        "colab": {
          "base_uri": "https://localhost:8080/"
        },
        "id": "U9xRjjVylD5c",
        "outputId": "00464e9b-dfc9-4426-bc5e-0c3d889afcc3"
      },
      "execution_count": 5,
      "outputs": [
        {
          "output_type": "execute_result",
          "data": {
            "text/plain": [
              "array([[ 1, 11],\n",
              "       [ 5,  1],\n",
              "       [ 0, 11]])"
            ]
          },
          "metadata": {},
          "execution_count": 5
        }
      ]
    },
    {
      "cell_type": "code",
      "source": [
        "x[1,0,1:]"
      ],
      "metadata": {
        "colab": {
          "base_uri": "https://localhost:8080/"
        },
        "id": "KgQxat3QliGJ",
        "outputId": "7ecd6fa3-0cbe-4d5b-f1ab-1de872706190"
      },
      "execution_count": 12,
      "outputs": [
        {
          "output_type": "execute_result",
          "data": {
            "text/plain": [
              "array([[ 5,  1],\n",
              "       [ 0, 11]])"
            ]
          },
          "metadata": {},
          "execution_count": 12
        }
      ]
    },
    {
      "cell_type": "code",
      "source": [
        "np.random.seed(42)\n",
        "y = np.random.randint(0, 20, (3, 2, 5, 4, 4))\n",
        "print(y)"
      ],
      "metadata": {
        "colab": {
          "base_uri": "https://localhost:8080/"
        },
        "id": "muX4D4iCl5vB",
        "outputId": "dd202b07-6e46-4d58-9132-be6fdb35ab20"
      },
      "execution_count": 11,
      "outputs": [
        {
          "output_type": "stream",
          "name": "stdout",
          "text": [
            "[[[[[ 6 19 14 10]\n",
            "    [ 7  6 18 10]\n",
            "    [10  3  7  2]\n",
            "    [ 1 11  5  1]]\n",
            "\n",
            "   [[ 0 11 11 16]\n",
            "    [ 9 15 14 14]\n",
            "    [18 11 19  2]\n",
            "    [ 4 18  6  8]]\n",
            "\n",
            "   [[ 6 17  3 13]\n",
            "    [17  8  1 19]\n",
            "    [14  6 11  7]\n",
            "    [14  2 13 16]]\n",
            "\n",
            "   [[ 3 17  7  3]\n",
            "    [ 1  5  9  3]\n",
            "    [17 11  1  9]\n",
            "    [ 3 13 15 14]]\n",
            "\n",
            "   [[ 7 13  7 15]\n",
            "    [12 17 14 12]\n",
            "    [ 8 14 12  0]\n",
            "    [ 6  8  0 11]]]\n",
            "\n",
            "\n",
            "  [[[ 7 10 18 16]\n",
            "    [ 7  2  2  0]\n",
            "    [ 4  9  6  8]\n",
            "    [ 6  8  7 11]]\n",
            "\n",
            "   [[ 1  0 15  4]\n",
            "    [ 2 11  7  2]\n",
            "    [ 0  2  4 14]\n",
            "    [13  2  0  4]]\n",
            "\n",
            "   [[13  6  8 14]\n",
            "    [14  9 12 18]\n",
            "    [ 6 16 19  3]\n",
            "    [ 4  6 12 14]]\n",
            "\n",
            "   [[10  3 12  6]\n",
            "    [18  1  9 12]\n",
            "    [ 5 11 11 19]\n",
            "    [10  6  0  0]]\n",
            "\n",
            "   [[19 12  8  2]\n",
            "    [ 6  5  7  8]\n",
            "    [ 4  0 18  9]\n",
            "    [11 14  8 19]]]]\n",
            "\n",
            "\n",
            "\n",
            " [[[[16 16 19 11]\n",
            "    [ 6  1  2 16]\n",
            "    [ 4 16 16 16]\n",
            "    [ 1  1  4  0]]\n",
            "\n",
            "   [[ 0 18  1 11]\n",
            "    [ 5  3 10 16]\n",
            "    [ 5  4 19  1]\n",
            "    [ 5 10 15 15]]\n",
            "\n",
            "   [[ 0  8  5 15]\n",
            "    [ 2 19  3 18]\n",
            "    [ 2 18 19  6]\n",
            "    [19  8  0  7]]\n",
            "\n",
            "   [[ 6 17  7  0]\n",
            "    [10 17  9  2]\n",
            "    [ 6 15 15 19]\n",
            "    [16  1  0 15]]\n",
            "\n",
            "   [[11  4  4  8]\n",
            "    [ 8  2 18 15]\n",
            "    [15  2 19  0]\n",
            "    [19 10 16  7]]]\n",
            "\n",
            "\n",
            "  [[[ 3  5  7 19]\n",
            "    [ 2 15  2 17]\n",
            "    [13 17  1  2]\n",
            "    [15  8  3  0]]\n",
            "\n",
            "   [[ 3  0 13 15]\n",
            "    [19  7  6  2]\n",
            "    [16  0 15 11]\n",
            "    [18 13  5  5]]\n",
            "\n",
            "   [[12 18  7  1]\n",
            "    [ 0 14  0  4]\n",
            "    [15 18  3  2]\n",
            "    [16 16 11 13]]\n",
            "\n",
            "   [[ 5  2  8  4]\n",
            "    [16 13  2  0]\n",
            "    [19  0  2 17]\n",
            "    [ 9  2  7 13]]\n",
            "\n",
            "   [[17 14  1  9]\n",
            "    [ 1 16  7  0]\n",
            "    [ 8 10 15  6]\n",
            "    [ 9  2 17 12]]]]\n",
            "\n",
            "\n",
            "\n",
            " [[[[ 6  3 12 19]\n",
            "    [ 0  7 13 15]\n",
            "    [13 11 18 14]\n",
            "    [ 1  1 18 16]]\n",
            "\n",
            "   [[19  9  5 14]\n",
            "    [10  4  0  7]\n",
            "    [11 11  4  6]\n",
            "    [ 3  5 12 19]]\n",
            "\n",
            "   [[14  2  7 19]\n",
            "    [15 12 17  9]\n",
            "    [18 16 18  4]\n",
            "    [ 8 11  0  0]]\n",
            "\n",
            "   [[14  1 15  7]\n",
            "    [12  0 15  6]\n",
            "    [ 4  2 11 15]\n",
            "    [18  4 13  4]]\n",
            "\n",
            "   [[14 16 13 19]\n",
            "    [ 4 11 15 15]\n",
            "    [ 6  3  0  4]\n",
            "    [ 9  4  3  1]]]\n",
            "\n",
            "\n",
            "  [[[19  9 18  0]\n",
            "    [ 4 12  3 15]\n",
            "    [15  1 16 19]\n",
            "    [11 17  2  0]]\n",
            "\n",
            "   [[ 0 18 10  4]\n",
            "    [11  2  0  0]\n",
            "    [ 7  9 10 11]\n",
            "    [12 11 13  1]]\n",
            "\n",
            "   [[18 17  2 16]\n",
            "    [ 7  9  1 18]\n",
            "    [ 8  6  3 17]\n",
            "    [12 10  3  3]]\n",
            "\n",
            "   [[ 9  4  8  2]\n",
            "    [16  2 15  3]\n",
            "    [17 16  6  4]\n",
            "    [11 16 12  2]]\n",
            "\n",
            "   [[ 8 16 16 19]\n",
            "    [15 12 18 16]\n",
            "    [ 3 11  8 18]\n",
            "    [11  8  6 13]]]]]\n"
          ]
        }
      ]
    },
    {
      "cell_type": "code",
      "source": [
        "\n",
        "\n",
        "\n",
        "# y[2,0,1,1:]"
      ],
      "metadata": {
        "id": "EPxmuj8xmj_G"
      },
      "execution_count": null,
      "outputs": []
    }
  ]
}