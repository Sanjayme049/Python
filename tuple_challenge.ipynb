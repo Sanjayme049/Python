{
  "nbformat": 4,
  "nbformat_minor": 0,
  "metadata": {
    "colab": {
      "name": "tuple_challenge.ipynb",
      "provenance": [],
      "collapsed_sections": [],
      "authorship_tag": "ABX9TyP9foeLQR8IggZZp9HcmDO2",
      "include_colab_link": true
    },
    "kernelspec": {
      "name": "python3",
      "display_name": "Python 3"
    },
    "language_info": {
      "name": "python"
    }
  },
  "cells": [
    {
      "cell_type": "markdown",
      "metadata": {
        "id": "view-in-github",
        "colab_type": "text"
      },
      "source": [
        "<a href=\"https://colab.research.google.com/github/Sanjayme049/Python/blob/main/tuple_challenge.ipynb\" target=\"_parent\"><img src=\"https://colab.research.google.com/assets/colab-badge.svg\" alt=\"Open In Colab\"/></a>"
      ]
    },
    {
      "cell_type": "code",
      "execution_count": 4,
      "metadata": {
        "id": "f8ESvi0RcMqu",
        "colab": {
          "base_uri": "https://localhost:8080/"
        },
        "outputId": "11af3941-0063-418c-eacf-e1f0263ebb7d"
      },
      "outputs": [
        {
          "name": "stdout",
          "output_type": "stream",
          "text": [
            "Please choose your album:\n",
            "1: Welcome to my Nightmare\n",
            "2: Bad Company\n",
            "3: Nightflight\n",
            "4: More Mayhem\n",
            "1\n",
            "('Welcome to my Nightmare', 'Alice Cooper', 1975, [(1, 'Welcome to my Nightmare'), (2, \"Devil's Food\"), (3, 'The Black Widow'), (4, 'Some Folks'), (5, 'Only Women Bleed')])\n",
            "[(1, 'Welcome to my Nightmare'), (2, \"Devil's Food\"), (3, 'The Black Widow'), (4, 'Some Folks'), (5, 'Only Women Bleed')]\n",
            "========================================\n",
            "Select your song:\n",
            "1: Welcome to my Nightmare\n",
            "2: Devil's Food\n",
            "3: The Black Widow\n",
            "4: Some Folks\n",
            "5: Only Women Bleed\n",
            "5\n",
            "(5, 'Only Women Bleed')\n",
            "Only Women Bleed\n",
            "****************************************\n",
            "Please choose your album:\n",
            "1: Welcome to my Nightmare\n",
            "2: Bad Company\n",
            "3: Nightflight\n",
            "4: More Mayhem\n",
            "0\n"
          ]
        }
      ],
      "source": [
        "\n",
        "\n",
        "albums = [\n",
        "    (\"Welcome to my Nightmare\", \"Alice Cooper\", 1975,\n",
        "     [\n",
        "         (1, \"Welcome to my Nightmare\"),\n",
        "         (2, \"Devil's Food\"),\n",
        "         (3, \"The Black Widow\"),\n",
        "         (4, \"Some Folks\"),\n",
        "         (5, \"Only Women Bleed\"),\n",
        "     ]\n",
        "     ),\n",
        "    (\"Bad Company\", \"Bad Company\", 1974,\n",
        "     [\n",
        "         (1, \"Can't Get Enough\"),\n",
        "         (2, \"Rock Steady\"),\n",
        "         (3, \"Ready for Love\"),\n",
        "         (4, \"Don't Let Me Down\"),\n",
        "         (5, \"Bad Company\"),\n",
        "         (6, \"The Way I Choose\"),\n",
        "         (7, \"Movin' On\"),\n",
        "         (8, \"Seagull\"),\n",
        "     ]\n",
        "     ),\n",
        "    (\"Nightflight\", \"Budgie\", 1981,\n",
        "     [\n",
        "         (1, \"I Turned to Stone\"),\n",
        "         (2, \"Keeping a Rendezvous\"),\n",
        "         (3, \"Reaper of the Glory\"),\n",
        "         (4, \"She Used Me Up\"),\n",
        "     ]\n",
        "     ),\n",
        "    (\"More Mayhem\", \"Imelda May\", 2011,\n",
        "     [\n",
        "         (1, \"Pulling the Rug\"),\n",
        "         (2, \"Psycho\"),\n",
        "         (3, \"Mayhem\"),\n",
        "         (4, \"Kentish Town Waltz\"),\n",
        "     ]\n",
        "     ),\n",
        "]\n",
        "\n",
        "SONGS_LIST_INDEX = 3\n",
        "SONGS_TITLE_INDEX = 1\n",
        "\n",
        "while True:\n",
        "  print(\"Please choose your album:\")\n",
        "  for index, (title, artist, year, songs) in enumerate(albums):\n",
        "    print(\"{}: {}\".format(index + 1, title))\n",
        "\n",
        "  choice = int(input())\n",
        "  if 1<= choice<= len(albums):\n",
        "    songs_list =albums[choice-1][SONGS_LIST_INDEX]\n",
        "  else:\n",
        "    break\n",
        "  print(albums[choice-1])\n",
        "  print(songs_list)\n",
        "  print(\"=\" * 40)\n",
        "\n",
        "  print(\"Select your song:\")\n",
        "  for index, (track_number, song) in enumerate(songs_list):\n",
        "    print(\"{}: {}\".format(index + 1, song))\n",
        "  song_choice = int(input())\n",
        "  if 1<= song_choice <= len(songs_list):\n",
        "    song_list = songs_list[song_choice-1][SONGS_TITLE_INDEX]\n",
        "  else:\n",
        "    break\n",
        "  print(songs_list[song_choice-1])\n",
        "  print(song_list)\n",
        "  print(\"*\" * 40)\n",
        "\n",
        "\n"
      ]
    },
    {
      "cell_type": "code",
      "source": [
        "\n"
      ],
      "metadata": {
        "id": "IXbcJ3o2c9ah"
      },
      "execution_count": null,
      "outputs": []
    }
  ]
}