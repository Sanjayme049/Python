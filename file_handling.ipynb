{
  "nbformat": 4,
  "nbformat_minor": 0,
  "metadata": {
    "colab": {
      "provenance": [],
      "authorship_tag": "ABX9TyM/U/Gl1nbyufJmKneC3sae",
      "include_colab_link": true
    },
    "kernelspec": {
      "name": "python3",
      "display_name": "Python 3"
    },
    "language_info": {
      "name": "python"
    }
  },
  "cells": [
    {
      "cell_type": "markdown",
      "metadata": {
        "id": "view-in-github",
        "colab_type": "text"
      },
      "source": [
        "<a href=\"https://colab.research.google.com/github/Sanjayme049/Python/blob/main/file_handling.ipynb\" target=\"_parent\"><img src=\"https://colab.research.google.com/assets/colab-badge.svg\" alt=\"Open In Colab\"/></a>"
      ]
    },
    {
      "cell_type": "code",
      "execution_count": 1,
      "metadata": {
        "colab": {
          "base_uri": "https://localhost:8080/"
        },
        "id": "GcuAJ49KjqlY",
        "outputId": "86e49214-b1bf-4b9b-85d4-da13ab438625"
      },
      "outputs": [
        {
          "output_type": "stream",
          "name": "stdout",
          "text": [
            "Mounted at /content/gdrive\n"
          ]
        }
      ],
      "source": [
        "from google.colab import drive\n",
        "drive.mount(\"/content/gdrive\")\n",
        "\n",
        "# # File handling Example 1\n",
        "# import os\n",
        "file = open('/content/gdrive/My Drive/Python/File Handling/Demofile.txt', 'w')\n",
        "file.close()\n",
        "\n"
      ]
    },
    {
      "cell_type": "code",
      "source": [
        "# file handling example 2\n",
        "file = open('/content/gdrive/My Drive/Python/File Handling/Demofile.txt', 'r')\n",
        "print(file.read())\n",
        "file.close()"
      ],
      "metadata": {
        "colab": {
          "base_uri": "https://localhost:8080/"
        },
        "id": "HI9LsGcvoT76",
        "outputId": "db21ee6b-cc42-417a-dc19-3ea7e99aa179"
      },
      "execution_count": 2,
      "outputs": [
        {
          "output_type": "stream",
          "name": "stdout",
          "text": [
            "\n"
          ]
        }
      ]
    },
    {
      "cell_type": "code",
      "source": [
        "# file handling example 3\n",
        "file = open('/content/gdrive/My Drive/Python/File Handling/Demofile.txt', 'r')\n",
        "print(file.read(5))\n",
        "file.close()"
      ],
      "metadata": {
        "colab": {
          "base_uri": "https://localhost:8080/"
        },
        "id": "3W7ntehGo7hV",
        "outputId": "1b895621-7b76-45fc-fedf-702c9b97b0af"
      },
      "execution_count": 3,
      "outputs": [
        {
          "output_type": "stream",
          "name": "stdout",
          "text": [
            "\n"
          ]
        }
      ]
    },
    {
      "cell_type": "code",
      "source": [
        "\n",
        "# file handling example 4\n",
        "file = open('/content/gdrive/My Drive/Python/File Handling/Demofile.txt', 'r')\n",
        "print(file.readline())\n",
        "file.close()"
      ],
      "metadata": {
        "colab": {
          "base_uri": "https://localhost:8080/"
        },
        "id": "XhpYShmLpgeC",
        "outputId": "224fdfbd-d202-42a1-a481-8cfc44378064"
      },
      "execution_count": 4,
      "outputs": [
        {
          "output_type": "stream",
          "name": "stdout",
          "text": [
            "\n"
          ]
        }
      ]
    },
    {
      "cell_type": "code",
      "source": [
        "# file handling example 5\n",
        "file = open('/content/gdrive/My Drive/Python/File Handling/Demofile.txt', 'r')\n",
        "print(file.readlines())\n",
        "file.close()"
      ],
      "metadata": {
        "colab": {
          "base_uri": "https://localhost:8080/"
        },
        "id": "-P_bGIryPwCy",
        "outputId": "bbca02da-08ef-4de6-b7d7-052028ede882"
      },
      "execution_count": 5,
      "outputs": [
        {
          "output_type": "stream",
          "name": "stdout",
          "text": [
            "[]\n"
          ]
        }
      ]
    },
    {
      "cell_type": "code",
      "source": [
        "# file handling - for loop\n",
        "file = open('/content/gdrive/My Drive/Python/File Handling/Demofile.txt', 'r')\n",
        "\n",
        "for line in file:\n",
        "  print(line)\n",
        "file.close()"
      ],
      "metadata": {
        "id": "-eQwhiHPlJrm"
      },
      "execution_count": 6,
      "outputs": []
    },
    {
      "cell_type": "code",
      "source": [
        "file = open('/content/gdrive/My Drive/Python/File Handling/Demofile.txt', 'w')\n",
        "file.write(\"Oaps overwritten\")\n",
        "file.close()"
      ],
      "metadata": {
        "id": "jrc_d-xBmkgO"
      },
      "execution_count": 7,
      "outputs": []
    },
    {
      "cell_type": "code",
      "source": [
        "file = open('/content/gdrive/My Drive/Python/File Handling/Demofile.txt', 'r')\n",
        "print(file.readlines())\n",
        "file.close()"
      ],
      "metadata": {
        "colab": {
          "base_uri": "https://localhost:8080/"
        },
        "id": "CBWyQpPzqhPT",
        "outputId": "4348a01d-5cef-4ebf-c1f4-4e606c4cd862"
      },
      "execution_count": 9,
      "outputs": [
        {
          "output_type": "stream",
          "name": "stdout",
          "text": [
            "['Oaps overwritten']\n"
          ]
        }
      ]
    },
    {
      "cell_type": "code",
      "source": [
        "file = open('/content/gdrive/My Drive/Python/File Handling/Edureka.txt', 'x')\n",
        "file.write(\"New File - Edureka\")\n",
        "file.close()"
      ],
      "metadata": {
        "id": "bxYNoc_ukrgT"
      },
      "execution_count": 11,
      "outputs": []
    },
    {
      "cell_type": "code",
      "source": [
        "file = open('/content/gdrive/My Drive/Python/File Handling/Demo.xlx', 'x')\n",
        "file.write(\"Legend-Shivayogi\")\n",
        "file.close()"
      ],
      "metadata": {
        "id": "icnivt7Pk-mM"
      },
      "execution_count": 12,
      "outputs": []
    },
    {
      "cell_type": "code",
      "source": [],
      "metadata": {
        "id": "nx-pY84El4Cp"
      },
      "execution_count": null,
      "outputs": []
    }
  ]
}