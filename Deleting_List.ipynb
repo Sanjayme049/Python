{
  "nbformat": 4,
  "nbformat_minor": 0,
  "metadata": {
    "colab": {
      "name": "Deleting_List.ipynb",
      "provenance": [],
      "authorship_tag": "ABX9TyM5DFUcJA1mcFDfFcLJRVkm",
      "include_colab_link": true
    },
    "kernelspec": {
      "name": "python3",
      "display_name": "Python 3"
    },
    "language_info": {
      "name": "python"
    }
  },
  "cells": [
    {
      "cell_type": "markdown",
      "metadata": {
        "id": "view-in-github",
        "colab_type": "text"
      },
      "source": [
        "<a href=\"https://colab.research.google.com/github/Sanjayme049/Python/blob/main/Deleting_List.ipynb\" target=\"_parent\"><img src=\"https://colab.research.google.com/assets/colab-badge.svg\" alt=\"Open In Colab\"/></a>"
      ]
    },
    {
      "cell_type": "code",
      "execution_count": 4,
      "metadata": {
        "colab": {
          "base_uri": "https://localhost:8080/"
        },
        "id": "Qf0itO7RYBao",
        "outputId": "71b440cb-5977-4553-eb77-67300546e225"
      },
      "outputs": [
        {
          "output_type": "stream",
          "name": "stdout",
          "text": [
            "[104, 105, 110, 120, 130, 150, 160, 170, 183, 185, 187, 188, 191, 350, 360]\n",
            "[104, 105, 110, 120, 130, 150, 160, 170, 183, 185, 187, 188, 191, 350]\n"
          ]
        }
      ],
      "source": [
        "data = [4, 5, 104, 105, 110, 120, 130, 150,\n",
        "        160, 170, 183, 185, 187, 188, 191, 350, 360]\n",
        "\n",
        "del data[0:2]\n",
        "print(data)\n",
        "\n",
        "del data[14:]\n",
        "print(data)"
      ]
    },
    {
      "cell_type": "code",
      "source": [
        ""
      ],
      "metadata": {
        "id": "pFMTviHGah-9"
      },
      "execution_count": null,
      "outputs": []
    }
  ]
}