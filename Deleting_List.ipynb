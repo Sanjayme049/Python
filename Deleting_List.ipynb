{
  "nbformat": 4,
  "nbformat_minor": 0,
  "metadata": {
    "colab": {
      "name": "Deleting_List.ipynb",
      "provenance": [],
      "authorship_tag": "ABX9TyPtLBl7rkgacKjohlJCu7JT",
      "include_colab_link": true
    },
    "kernelspec": {
      "name": "python3",
      "display_name": "Python 3"
    },
    "language_info": {
      "name": "python"
    }
  },
  "cells": [
    {
      "cell_type": "markdown",
      "metadata": {
        "id": "view-in-github",
        "colab_type": "text"
      },
      "source": [
        "<a href=\"https://colab.research.google.com/github/Sanjayme049/Python/blob/main/Deleting_List.ipynb\" target=\"_parent\"><img src=\"https://colab.research.google.com/assets/colab-badge.svg\" alt=\"Open In Colab\"/></a>"
      ]
    },
    {
      "cell_type": "code",
      "execution_count": 1,
      "metadata": {
        "colab": {
          "base_uri": "https://localhost:8080/"
        },
        "id": "Qf0itO7RYBao",
        "outputId": "2eab5332-bfc6-4109-9476-7a82d1be9c4b"
      },
      "outputs": [
        {
          "output_type": "stream",
          "name": "stdout",
          "text": [
            "[104, 105, 110, 120, 130, 130, 150, 160, 170, 183, 185, 187, 188, 191, 350, 360]\n",
            "[104, 105, 110, 120, 130, 130, 150, 160, 170, 183, 185, 187, 188, 191]\n",
            "[104, 105, 110, 120, 130, 130, 150, 160, 170, 183, 185, 187, 188, 191]\n"
          ]
        }
      ],
      "source": [
        "data = [4, 5, 104, 105, 110, 120, 130, 130, 150,\n",
        "        160, 170, 183, 185, 187, 188, 191, 350, 360]\n",
        "\n",
        "del data[0:2]\n",
        "print(data)\n",
        "\n",
        "del data[14:]\n",
        "print(data)\n",
        "\n",
        "min_valid = 100\n",
        "max_valid = 200\n",
        "\n",
        "for index, value in enumerate(data):\n",
        "  if (value < min_valid) or (value > max_valid):\n",
        "    del data[index]\n",
        "print(data)\n",
        "\n"
      ]
    },
    {
      "cell_type": "code",
      "source": [
        "data = [4, 5, 104, 105, 110, 120, 130, 130, 150,\n",
        "        160, 170, 183, 185, 187, 188, 191, 350, 360]\n",
        "\n",
        "min_valid = 100\n",
        "max_valid = 200\n",
        "\n",
        "#process the low values in the list\n",
        "stop = 0\n",
        "\n",
        "for index, value in enumerate(data):\n",
        "  if value >= min_valid:\n",
        "    stop = index\n",
        "    break\n",
        "print(stop)\n",
        "del data[:stop]\n",
        "print(data)"
      ],
      "metadata": {
        "id": "pFMTviHGah-9",
        "colab": {
          "base_uri": "https://localhost:8080/"
        },
        "outputId": "3667184d-c706-46c9-d0fd-f361e2e23ae3"
      },
      "execution_count": 4,
      "outputs": [
        {
          "output_type": "stream",
          "name": "stdout",
          "text": [
            "2\n",
            "[104, 105, 110, 120, 130, 130, 150, 160, 170, 183, 185, 187, 188, 191, 350, 360]\n"
          ]
        }
      ]
    },
    {
      "cell_type": "code",
      "source": [
        "data = [4, 5, 104, 105, 110, 120, 130, 130, 150,\n",
        "        160, 170, 183, 185, 187, 188, 191, 350, 360]\n",
        "\n",
        "min_valid = 100\n",
        "max_valid = 200\n",
        "\n",
        "#process the low values in the list\n",
        "stop = 0\n",
        "\n",
        "for index, value in enumerate(data):\n",
        "  if value >= min_valid:\n",
        "    stop = index\n",
        "    continue\n",
        "print(stop)"
      ],
      "metadata": {
        "colab": {
          "base_uri": "https://localhost:8080/"
        },
        "id": "2HXSaaMhAnQg",
        "outputId": "a4aef02a-cc9b-4abd-8248-e0d8ddad0a16"
      },
      "execution_count": 3,
      "outputs": [
        {
          "output_type": "stream",
          "name": "stdout",
          "text": [
            "17\n"
          ]
        }
      ]
    },
    {
      "cell_type": "code",
      "source": [
        ""
      ],
      "metadata": {
        "id": "--mN7x6dBp6Q"
      },
      "execution_count": null,
      "outputs": []
    }
  ]
}