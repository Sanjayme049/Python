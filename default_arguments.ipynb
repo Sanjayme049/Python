{
  "nbformat": 4,
  "nbformat_minor": 0,
  "metadata": {
    "colab": {
      "provenance": [],
      "authorship_tag": "ABX9TyP3dGsFLCFAMSH4wVdGXP59",
      "include_colab_link": true
    },
    "kernelspec": {
      "name": "python3",
      "display_name": "Python 3"
    },
    "language_info": {
      "name": "python"
    }
  },
  "cells": [
    {
      "cell_type": "markdown",
      "metadata": {
        "id": "view-in-github",
        "colab_type": "text"
      },
      "source": [
        "<a href=\"https://colab.research.google.com/github/Sanjayme049/Python/blob/main/default_arguments.ipynb\" target=\"_parent\"><img src=\"https://colab.research.google.com/assets/colab-badge.svg\" alt=\"Open In Colab\"/></a>"
      ]
    },
    {
      "cell_type": "code",
      "execution_count": 7,
      "metadata": {
        "id": "3fN_dmQx4xLH",
        "colab": {
          "base_uri": "https://localhost:8080/"
        },
        "outputId": "25e0b444-923f-4297-9784-d5f7160c50f0"
      },
      "outputs": [
        {
          "output_type": "stream",
          "name": "stdout",
          "text": [
            "name= python\n",
            "course= AI\n",
            "name= Java\n",
            "course= M.Tech\n",
            "name= C\n",
            "course= B.E\n"
          ]
        }
      ],
      "source": [
        "\n",
        "# Daufalut arguments\n",
        "def display(name, course=\"B.E\"):\n",
        "  print(\"name=\",name)\n",
        "  print(\"course=\",course)\n",
        "\n",
        "display(name=\"python\", course=\"AI\")\n",
        "display(name=\"Java\", course=\"M.Tech\")\n",
        "display(name=\"C\")"
      ]
    },
    {
      "cell_type": "code",
      "source": [],
      "metadata": {
        "id": "UdTEkgQGK0D6"
      },
      "execution_count": null,
      "outputs": []
    },
    {
      "cell_type": "code",
      "source": [
        "# Variable length arguments\n",
        "\n",
        "def display(*course):\n",
        "    print(\"course=\",course)\n",
        "\n",
        "display(\"B.E\",\"M.Tech\",\"MBA\")"
      ],
      "metadata": {
        "colab": {
          "base_uri": "https://localhost:8080/"
        },
        "id": "wx8JZJXy7Ie5",
        "outputId": "757f7c35-4c8d-41bc-b0a7-1eb4f13cace6"
      },
      "execution_count": 9,
      "outputs": [
        {
          "output_type": "stream",
          "name": "stdout",
          "text": [
            "course= ('B.E', 'M.Tech', 'MBA')\n"
          ]
        }
      ]
    },
    {
      "cell_type": "code",
      "source": [
        "def display(*subjects):\n",
        "  for i in subjects:\n",
        "    print(i)\n",
        "\n",
        "display(\"BE\",\"M.TECH\",\"MBA\",\"CA\")"
      ],
      "metadata": {
        "colab": {
          "base_uri": "https://localhost:8080/"
        },
        "id": "OQkw-b5oK1Lw",
        "outputId": "f4dedea2-3d44-45ca-b8b8-b618763ea993"
      },
      "execution_count": 10,
      "outputs": [
        {
          "output_type": "stream",
          "name": "stdout",
          "text": [
            "BE\n",
            "M.TECH\n",
            "MBA\n",
            "CA\n"
          ]
        }
      ]
    },
    {
      "cell_type": "code",
      "source": [
        "# required arguments\n",
        "\n",
        "def sum(a,b):\n",
        "  return a+b\n",
        "\n",
        "sum(4,2)"
      ],
      "metadata": {
        "colab": {
          "base_uri": "https://localhost:8080/"
        },
        "id": "VaYkrgMQLcan",
        "outputId": "755355b2-c4ec-45f4-f726-9e4aed38c137"
      },
      "execution_count": 11,
      "outputs": [
        {
          "output_type": "execute_result",
          "data": {
            "text/plain": [
              "6"
            ]
          },
          "metadata": {},
          "execution_count": 11
        }
      ]
    },
    {
      "cell_type": "code",
      "source": [
        "sum(4,2)"
      ],
      "metadata": {
        "colab": {
          "base_uri": "https://localhost:8080/"
        },
        "id": "w87Utl8rMixB",
        "outputId": "9b162c2d-7245-43e9-db31-87b9b8a7cf2f"
      },
      "execution_count": 12,
      "outputs": [
        {
          "output_type": "execute_result",
          "data": {
            "text/plain": [
              "6"
            ]
          },
          "metadata": {},
          "execution_count": 12
        }
      ]
    },
    {
      "cell_type": "code",
      "source": [
        "# positional arguments\n",
        "\n",
        "def mul(a,b):\n",
        "  print(\"a=\",a)\n",
        "  print(\"b=\",b)\n",
        "  return a*b\n",
        "\n",
        "mul(a=4, b=5)\n",
        "\n"
      ],
      "metadata": {
        "colab": {
          "base_uri": "https://localhost:8080/"
        },
        "id": "EYHVJBQBMls0",
        "outputId": "f04cee93-dcc2-45de-eb8c-317afe36aeed"
      },
      "execution_count": 13,
      "outputs": [
        {
          "output_type": "stream",
          "name": "stdout",
          "text": [
            "a= 4\n",
            "b= 5\n"
          ]
        },
        {
          "output_type": "execute_result",
          "data": {
            "text/plain": [
              "20"
            ]
          },
          "metadata": {},
          "execution_count": 13
        }
      ]
    },
    {
      "cell_type": "code",
      "source": [
        "mul(b=3, a=5)"
      ],
      "metadata": {
        "colab": {
          "base_uri": "https://localhost:8080/"
        },
        "id": "IQWPkSA7NUoA",
        "outputId": "fa64f958-9e7b-4df4-e32b-d6c094166311"
      },
      "execution_count": 14,
      "outputs": [
        {
          "output_type": "stream",
          "name": "stdout",
          "text": [
            "a= 5\n",
            "b= 3\n"
          ]
        },
        {
          "output_type": "execute_result",
          "data": {
            "text/plain": [
              "15"
            ]
          },
          "metadata": {},
          "execution_count": 14
        }
      ]
    },
    {
      "cell_type": "code",
      "source": [],
      "metadata": {
        "id": "NFT2E15jNbsA"
      },
      "execution_count": null,
      "outputs": []
    }
  ]
}