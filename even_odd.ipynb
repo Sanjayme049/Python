{
  "nbformat": 4,
  "nbformat_minor": 0,
  "metadata": {
    "colab": {
      "provenance": [],
      "authorship_tag": "ABX9TyNCLVXpx8pyxYGO7uedxFH5",
      "include_colab_link": true
    },
    "kernelspec": {
      "name": "python3",
      "display_name": "Python 3"
    },
    "language_info": {
      "name": "python"
    }
  },
  "cells": [
    {
      "cell_type": "markdown",
      "metadata": {
        "id": "view-in-github",
        "colab_type": "text"
      },
      "source": [
        "<a href=\"https://colab.research.google.com/github/Sanjayme049/Python/blob/main/even_odd.ipynb\" target=\"_parent\"><img src=\"https://colab.research.google.com/assets/colab-badge.svg\" alt=\"Open In Colab\"/></a>"
      ]
    },
    {
      "cell_type": "code",
      "execution_count": 1,
      "metadata": {
        "id": "_Qd0Uc97NlRV",
        "colab": {
          "base_uri": "https://localhost:8080/"
        },
        "outputId": "0e2a9410-00f4-426c-f368-5288d6532a39"
      },
      "outputs": [
        {
          "output_type": "stream",
          "name": "stdout",
          "text": [
            "6\n",
            "3\n",
            "Even: 6 and odd : 3\n"
          ]
        }
      ],
      "source": [
        "\n",
        "\n",
        "def count(lst):\n",
        "  even =0\n",
        "  odd = 0\n",
        "\n",
        "  for i in lst:\n",
        "    if i%2==0:\n",
        "      even+=1\n",
        "    else:\n",
        "      odd+=1\n",
        "  return even,odd\n",
        "\n",
        "lst=[20,25,14,19,16,24,28,47,26]\n",
        "even, odd= count(lst)\n",
        "\n",
        "print(even)\n",
        "print(odd)\n",
        "\n",
        "print(\"Even: {} and odd : {}\".format(even,odd))"
      ]
    },
    {
      "cell_type": "code",
      "source": [
        "def fib(n):\n",
        "  a=0\n",
        "  b=1\n",
        "  print(a)\n",
        "  print(b)\n",
        "\n",
        "\n",
        "  if n==1:\n",
        "    print(a)\n",
        "\n",
        "  else:\n",
        "\n",
        "    for i in range(2,n):\n",
        "      c=a+b\n",
        "      a=b\n",
        "      b=c\n",
        "      print(c)\n",
        "\n",
        "\n",
        "\n",
        "\n",
        "fib(10)"
      ],
      "metadata": {
        "colab": {
          "base_uri": "https://localhost:8080/"
        },
        "id": "ZPr0jkxVxbbF",
        "outputId": "543ddf1b-ba02-4110-c457-cf25fc36ab08"
      },
      "execution_count": 6,
      "outputs": [
        {
          "output_type": "stream",
          "name": "stdout",
          "text": [
            "0\n",
            "1\n",
            "1\n",
            "2\n",
            "3\n",
            "5\n",
            "8\n",
            "13\n",
            "21\n",
            "34\n"
          ]
        }
      ]
    },
    {
      "cell_type": "code",
      "source": [],
      "metadata": {
        "id": "hwVtXlJjx1SF"
      },
      "execution_count": null,
      "outputs": []
    }
  ]
}