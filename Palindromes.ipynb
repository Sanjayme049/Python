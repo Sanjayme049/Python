{
  "nbformat": 4,
  "nbformat_minor": 0,
  "metadata": {
    "colab": {
      "name": "Palindromes.ipynb",
      "provenance": [],
      "authorship_tag": "ABX9TyNiiPa/ofi8djkd+Ts0w0wm",
      "include_colab_link": true
    },
    "kernelspec": {
      "name": "python3",
      "display_name": "Python 3"
    },
    "language_info": {
      "name": "python"
    }
  },
  "cells": [
    {
      "cell_type": "markdown",
      "metadata": {
        "id": "view-in-github",
        "colab_type": "text"
      },
      "source": [
        "<a href=\"https://colab.research.google.com/github/Sanjayme049/Python/blob/main/Palindromes.ipynb\" target=\"_parent\"><img src=\"https://colab.research.google.com/assets/colab-badge.svg\" alt=\"Open In Colab\"/></a>"
      ]
    },
    {
      "cell_type": "code",
      "execution_count": null,
      "metadata": {
        "colab": {
          "base_uri": "https://localhost:8080/"
        },
        "id": "TiECajyfIqJJ",
        "outputId": "7e4dc93d-7d53-4a04-f709-49adef11c236"
      },
      "outputs": [
        {
          "output_type": "stream",
          "name": "stdout",
          "text": [
            "Please enter a word to check: racecar\n",
            "'racecar' is a palindrome\n"
          ]
        }
      ],
      "source": [
        "def is_palindrome(string):\n",
        "  return string[::-1] == string\n",
        "\n",
        "word = input(\"Please enter a word to check: \")\n",
        "if is_palindrome(word):\n",
        "  print(\"'{}' is a palindrome\".format(word))\n",
        "else:\n",
        "  print(\"'{}' is not a palindrome\".format(word))\n",
        "\n",
        "    \n"
      ]
    },
    {
      "cell_type": "code",
      "source": [
        ""
      ],
      "metadata": {
        "id": "n8CQ5Pn8MAIB"
      },
      "execution_count": null,
      "outputs": []
    }
  ]
}