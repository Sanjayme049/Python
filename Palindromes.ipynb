{
  "nbformat": 4,
  "nbformat_minor": 0,
  "metadata": {
    "colab": {
      "name": "Palindromes.ipynb",
      "provenance": [],
      "authorship_tag": "ABX9TyMSdpCeEkkwzcEqoUANDCZZ",
      "include_colab_link": true
    },
    "kernelspec": {
      "name": "python3",
      "display_name": "Python 3"
    },
    "language_info": {
      "name": "python"
    }
  },
  "cells": [
    {
      "cell_type": "markdown",
      "metadata": {
        "id": "view-in-github",
        "colab_type": "text"
      },
      "source": [
        "<a href=\"https://colab.research.google.com/github/Sanjayme049/Python/blob/main/Palindromes.ipynb\" target=\"_parent\"><img src=\"https://colab.research.google.com/assets/colab-badge.svg\" alt=\"Open In Colab\"/></a>"
      ]
    },
    {
      "cell_type": "code",
      "execution_count": 15,
      "metadata": {
        "colab": {
          "base_uri": "https://localhost:8080/"
        },
        "id": "TiECajyfIqJJ",
        "outputId": "b4a5caa0-ee28-4e8a-bd27-17d8b46c16be"
      },
      "outputs": [
        {
          "output_type": "stream",
          "name": "stdout",
          "text": [
            "Please enter a word to check: do geese see god?\n",
            "dogeeseseegod\n",
            "'do geese see god?' is a palindrome\n"
          ]
        }
      ],
      "source": [
        "def is_palindrome(string):\n",
        "  return string[::-1].casefold() == string.casefold()\n",
        "\n",
        "\n",
        "def palindrome_sentence(sentence):\n",
        "  string = \"\"\n",
        "  for char in sentence:\n",
        "    if char.isalnum():\n",
        "      string += char\n",
        "  print(string)\n",
        "  # return string[::-1].casefold() == string.casefold()\n",
        "  return is_palindrome(string)\n",
        "\n",
        "word = input(\"Please enter a word to check: \")\n",
        "if palindrome_sentence(word):\n",
        "  print(\"'{}' is a palindrome\".format(word))\n",
        "else:\n",
        "  print(\"'{}' is not a palindrome\".format(word))\n",
        "\n",
        "    \n"
      ]
    },
    {
      "cell_type": "code",
      "source": [
        ""
      ],
      "metadata": {
        "id": "n8CQ5Pn8MAIB"
      },
      "execution_count": null,
      "outputs": []
    }
  ]
}