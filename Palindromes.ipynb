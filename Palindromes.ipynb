{
  "nbformat": 4,
  "nbformat_minor": 0,
  "metadata": {
    "colab": {
      "name": "Palindromes.ipynb",
      "provenance": [],
      "authorship_tag": "ABX9TyNzORbud1yxYS3/JMGE9tun",
      "include_colab_link": true
    },
    "kernelspec": {
      "name": "python3",
      "display_name": "Python 3"
    },
    "language_info": {
      "name": "python"
    }
  },
  "cells": [
    {
      "cell_type": "markdown",
      "metadata": {
        "id": "view-in-github",
        "colab_type": "text"
      },
      "source": [
        "<a href=\"https://colab.research.google.com/github/Sanjayme049/Python/blob/main/Palindromes.ipynb\" target=\"_parent\"><img src=\"https://colab.research.google.com/assets/colab-badge.svg\" alt=\"Open In Colab\"/></a>"
      ]
    },
    {
      "cell_type": "code",
      "execution_count": 11,
      "metadata": {
        "colab": {
          "base_uri": "https://localhost:8080/"
        },
        "id": "TiECajyfIqJJ",
        "outputId": "7752545d-9ce9-489d-c74d-25b64d74cb38"
      },
      "outputs": [
        {
          "output_type": "stream",
          "name": "stdout",
          "text": [
            "Please enter a word to check: 125 is not a number\n",
            "1.12.125.125.125i.125is.125is.125isn.125isno.125isnot.125isnot.125isnota.125isnota.125isnotan.125isnotanu.125isnotanum.125isnotanumb.125isnotanumbe.125isnotanumber.'125 is not a number' is not a palindrome\n"
          ]
        }
      ],
      "source": [
        "def is_palindrome(string):\n",
        "  return string[::-1].casefold() == string.casefold()\n",
        "\n",
        "\n",
        "def palindrome_sentence(sentence):\n",
        "  string = \"\"\n",
        "  for char in sentence:\n",
        "    if char.isalnum():\n",
        "      string += char\n",
        "    print(string, sep='', end='.' )\n",
        "  return string[::-1].casefold() == string.casefold()\n",
        "\n",
        "word = input(\"Please enter a word to check: \")\n",
        "if palindrome_sentence(word):\n",
        "  print(\"'{}' is a palindrome\".format(word))\n",
        "else:\n",
        "  print(\"'{}' is not a palindrome\".format(word))\n",
        "\n",
        "    \n"
      ]
    },
    {
      "cell_type": "code",
      "source": [
        ""
      ],
      "metadata": {
        "id": "n8CQ5Pn8MAIB"
      },
      "execution_count": null,
      "outputs": []
    }
  ]
}